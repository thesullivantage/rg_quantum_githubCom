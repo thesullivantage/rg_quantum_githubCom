{
 "cells": [
  {
   "cell_type": "code",
   "execution_count": 1,
   "metadata": {},
   "outputs": [
    {
     "name": "stderr",
     "output_type": "stream",
     "text": [
      "configrc.store_credentials:WARNING:2021-04-07 16:30:13,253: Credentials already present. Set overwrite=True to overwrite.\n"
     ]
    }
   ],
   "source": [
    "import numpy as np\n",
    "from qiskit import *\n",
    "from qiskit.circuit.random import random_circuit\n",
    "\n",
    "DylanToken = \"6c2d60af610ef14174e6c12a76418f6dfe81a4e1823d4867e629baf9e93811d9ddd459d492fb6d299de3d89d9ee0294664bf360cb4892fce4aa0e288dfb24922\"\n",
    "GKToken = \"63660300336241cbc37115ad2a0a31cba961b97ef980b61b34c2da64e2a8d8c27570ad4a3595c9dce0ead7ed3ec149821fd0c4e82da989df70daa33d0e674995\"\n",
    "IBMQ.save_account(DylanToken)\n",
    "provider = IBMQ.load_account()\n",
    "%matplotlib inline"
   ]
  },
  {
   "cell_type": "code",
   "execution_count": 2,
   "metadata": {},
   "outputs": [],
   "source": [
    "qc_raw = QuantumCircuit.from_qasm_file(\"randomCircuitIdentity.qasm\")"
   ]
  },
  {
   "cell_type": "code",
   "execution_count": 3,
   "metadata": {},
   "outputs": [],
   "source": [
    "def actual_noise(test_circuit, architecture):\n",
    "    #Build transpiled circuit\n",
    "    qc = transpile(test_circuit, backend=architecture)\n",
    "    #Run\n",
    "    job = execute(qc, backend)\n",
    "    test_result = job.result()\n",
    "    #Start vector, pure result\n",
    "    null_vector_string = '0' * (test_circuit.num_qubits - test_circuit.num_ancillas)\n",
    "    null_vector_counts = qiskit.result.Counts({null_vector_string: 1024})\n",
    "    #Actual result\n",
    "    result_vector_counts = test_result.get_counts(qc)\n",
    "    print(null_vector_counts)\n",
    "    print(result_vector_counts)\n",
    "    return post_fidelity(null_vector_counts, result_vector_counts)"
   ]
  },
  {
   "cell_type": "code",
   "execution_count": 4,
   "metadata": {},
   "outputs": [],
   "source": [
    "def pure_sim_noise(test_circuit, architecture):\n",
    "    #Build transpiled circuit\n",
    "    qc = transpile(test_circuit, backend=architecture)\n",
    "    #Run\n",
    "    backend = Aer.get_backend('qasm_simulator')\n",
    "    job = execute(qc, backend, shots=1024)\n",
    "    test_result = job.result()\n",
    "    #Start vector, pure result\n",
    "    null_vector_string = '0' * (test_circuit.num_qubits - test_circuit.num_ancillas)\n",
    "    null_vector_counts = qiskit.result.Counts({null_vector_string: 1024})\n",
    "    #Actual result\n",
    "    result_vector_counts = test_result.get_counts(qc)\n",
    "    print(null_vector_counts)\n",
    "    print(result_vector_counts)\n",
    "    return post_fidelity(null_vector_counts, result_vector_counts)"
   ]
  },
  {
   "cell_type": "code",
   "execution_count": 5,
   "metadata": {},
   "outputs": [],
   "source": [
    "def post_fidelity(c1, c2):\n",
    "    hf = quantum_info.hellinger_fidelity(c1, c2)\n",
    "    bc = 1 - (hf * hf)\n",
    "    return bc * bc"
   ]
  },
  {
   "cell_type": "code",
   "execution_count": null,
   "metadata": {},
   "outputs": [
    {
     "name": "stderr",
     "output_type": "stream",
     "text": [
      "<ipython-input-6-d840eeca6b2b>:1: DeprecationWarning: The `backends` provider attribute is deprecated. Please use `provider.backend` (singular) instead. You can continue to use `provider.backends()` to retrieve all backends.\n",
      "  backend = provider.backends.ibmqx2\n"
     ]
    },
    {
     "name": "stdout",
     "output_type": "stream",
     "text": [
      "{'000': 1024}\n",
      "{'000': 1024}\n",
      "Pure Sim: 0.0\n"
     ]
    }
   ],
   "source": [
    "backend = provider.backends.ibmqx2\n",
    "print (\"Pure Sim:\", pure_sim_noise(qc_raw, backend))\n",
    "print (\"IBM:\", actual_noise(qc_raw, backend))"
   ]
  },
  {
   "cell_type": "code",
   "execution_count": null,
   "metadata": {},
   "outputs": [],
   "source": [
    "qc_transpiled = transpile(qc_raw, backend=backend)\n",
    "qc_transpiled.draw('mpl')"
   ]
  },
  {
   "cell_type": "code",
   "execution_count": null,
   "metadata": {},
   "outputs": [],
   "source": []
  },
  {
   "cell_type": "code",
   "execution_count": null,
   "metadata": {},
   "outputs": [],
   "source": []
  }
 ],
 "metadata": {
  "kernelspec": {
   "display_name": "Python 3",
   "language": "python",
   "name": "python3"
  },
  "language_info": {
   "codemirror_mode": {
    "name": "ipython",
    "version": 3
   },
   "file_extension": ".py",
   "mimetype": "text/x-python",
   "name": "python",
   "nbconvert_exporter": "python",
   "pygments_lexer": "ipython3",
   "version": "3.9.2"
  }
 },
 "nbformat": 4,
 "nbformat_minor": 4
}
