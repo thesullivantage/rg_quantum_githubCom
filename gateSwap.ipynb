{
 "cells": [
  {
   "cell_type": "code",
   "execution_count": 6,
   "metadata": {},
   "outputs": [],
   "source": [
    "import re"
   ]
  },
  {
   "cell_type": "code",
   "execution_count": 84,
   "metadata": {},
   "outputs": [],
   "source": [
    "def QASMDict(gates):\n",
    "#     print(gates)\n",
    "    qasmDict = {} #  {'qbit number' : []}\n",
    "#     print(gates)\n",
    "    count = []\n",
    "    for x in range(len(gates)):\n",
    "        if x == 1 or x == 0:\n",
    "            continue\n",
    "        if gates[x][0] == 'qreg':\n",
    "            for y in range(int(gates[x][1][2])):\n",
    "                qasmDict[str(y)] = []\n",
    "#         print(list(qasmDict.keys()))\n",
    "        if len(count) == 0:\n",
    "            for b in list(qasmDict.keys()):\n",
    "                count.append(0)\n",
    "        print(count)\n",
    "        if gates[x][0] != 'OPENQASM' and gates[x][0] != 'include' and gates[x][0] != 'qreg' and gates[x][0] != 'creg' and gates[x][0] != 'measure':\n",
    "            if len(gates[x])-1 > 1:\n",
    "                if count[int(gates[x][1][2])] > count[int(gates[x][2][2])]:\n",
    "                    qasmDict[str(gates[x][2][2])].append([])\n",
    "                    count[int(gates[x][2][2])] += 1\n",
    "                elif count[int(gates[x][1][2])] < count[int(gates[x][2][2])]:\n",
    "                    qasmDict[str(gates[x][1][2])].append([])\n",
    "                    count[int(gates[x][1][2])] += 1\n",
    "                qasmDict[str(gates[x][2][2])].append(gates[x])\n",
    "                qasmDict[str(gates[x][1][2])].append(gates[x])\n",
    "            else:\n",
    "                qasmDict[str(gates[x][1][2])].append(gates[x])\n",
    "                count[int(gates[x][1][2])] += 1\n",
    "#             for z in range(len(gates[x])-1):\n",
    "#                 qasmDict[str(gates[x][z+1][2])].append(gates[x])\n",
    "#                 count[int(gates[x][z+1][2])] += 1\n",
    "#         print(count.index(min(count)))\n",
    "#         print(count.index(max(count)))\n",
    "        uneven = True\n",
    "        while uneven:\n",
    "            uneven = False\n",
    "            minInd = count.index(min(count))\n",
    "            maxInd = count.index(max(count))\n",
    "            if count[maxInd] > count[minInd] + 1:\n",
    "                qasmDict[str(minInd)].append([])\n",
    "                count[minInd] += 1\n",
    "                uneven = True\n",
    "#         for a in count:\n",
    "            \n",
    "    return qasmDict\n",
    "\n",
    "def openQASM(qasm_loc):\n",
    "    qasm_f = open(qasm_loc, \"r\")\n",
    "    gates = []\n",
    "    for line in qasm_f:\n",
    "        gates.append( list(filter(None, re.split(\" |,\", line.strip()[:-1]))) )\n",
    "    print(gates)\n",
    "    qasmDict = QASMDict(gates)\n",
    "    qasm_f.close()\n",
    "    return qasmDict\n"
   ]
  },
  {
   "cell_type": "code",
   "execution_count": 92,
   "metadata": {},
   "outputs": [],
   "source": [
    "#MAIN SWAPS\n",
    "def HHtoNone(qubit, depth, circuitDict):\n",
    "    index2 = depth + 1\n",
    "    if circuitDict[str(qubit)][depth + 1] == []:\n",
    "        for x in range(depth+1,len(circuitDict[str(qubit)])):\n",
    "            if circuitDict[str(qubit)][x] != []:\n",
    "                index2 = x\n",
    "                break\n",
    "    circuitDict[str(qubit)][index2] = [])\n",
    "    circuitDict[str(qubit)].replace(depth, [])\n",
    "    return circuitDict\n",
    "\n",
    "\n",
    "def NonetoHH(qubit, depth, circuitDict):\n",
    "    qString = 'q[' + str(qubit) + ']'\n",
    "    circuitDict[str(qubit)].insert(depth, ['h', qString])\n",
    "    circuitDict[str(qubit)].insert(depth, ['h', qString])\n",
    "    return circuitDict\n",
    "\n",
    "def HZHtoCX(qubit, depth, circuitDict):\n",
    "    return 0"
   ]
  },
  {
   "cell_type": "code",
   "execution_count": 93,
   "metadata": {},
   "outputs": [
    {
     "name": "stdout",
     "output_type": "stream",
     "text": [
      "[['OPENQASM', '2.0'], ['include', '\"qelib1.inc\"'], ['qreg', 'q[2]'], ['creg', 'c[2]'], ['h', 'q[0]'], ['h', 'q[0]'], ['cz', 'q[1]', 'q[0]'], ['measure', 'q[0]', '->', 'c[0]'], ['measure', 'q[1]', '->', 'c[1]']]\n",
      "[0, 0]\n",
      "[0, 0]\n",
      "[0, 0]\n",
      "[1, 0]\n",
      "[2, 1]\n",
      "[2, 2]\n",
      "[2, 2]\n",
      "{'0': [['h', 'q[0]'], ['h', 'q[0]'], ['cz', 'q[1]', 'q[0]']], '1': [[], [], ['cz', 'q[1]', 'q[0]']]}\n"
     ]
    },
    {
     "ename": "AttributeError",
     "evalue": "'list' object has no attribute 'replace'",
     "output_type": "error",
     "traceback": [
      "\u001b[1;31m---------------------------------------------------------------------------\u001b[0m",
      "\u001b[1;31mAttributeError\u001b[0m                            Traceback (most recent call last)",
      "\u001b[1;32m<ipython-input-93-5590aef9c729>\u001b[0m in \u001b[0;36m<module>\u001b[1;34m\u001b[0m\n\u001b[0;32m      1\u001b[0m \u001b[0mcircuit\u001b[0m \u001b[1;33m=\u001b[0m \u001b[0mopenQASM\u001b[0m\u001b[1;33m(\u001b[0m\u001b[1;34m'circuit.qasm'\u001b[0m\u001b[1;33m)\u001b[0m\u001b[1;33m\u001b[0m\u001b[1;33m\u001b[0m\u001b[0m\n\u001b[0;32m      2\u001b[0m \u001b[0mprint\u001b[0m\u001b[1;33m(\u001b[0m\u001b[0mcircuit\u001b[0m\u001b[1;33m)\u001b[0m\u001b[1;33m\u001b[0m\u001b[1;33m\u001b[0m\u001b[0m\n\u001b[1;32m----> 3\u001b[1;33m \u001b[0mprint\u001b[0m\u001b[1;33m(\u001b[0m\u001b[0mHHtoNone\u001b[0m\u001b[1;33m(\u001b[0m\u001b[1;36m0\u001b[0m\u001b[1;33m,\u001b[0m\u001b[1;36m0\u001b[0m\u001b[1;33m,\u001b[0m\u001b[0mcircuit\u001b[0m\u001b[1;33m)\u001b[0m\u001b[1;33m)\u001b[0m\u001b[1;33m\u001b[0m\u001b[1;33m\u001b[0m\u001b[0m\n\u001b[0m",
      "\u001b[1;32m<ipython-input-92-af7f326f34ad>\u001b[0m in \u001b[0;36mHHtoNone\u001b[1;34m(qubit, depth, circuitDict)\u001b[0m\n\u001b[0;32m      7\u001b[0m                 \u001b[0mindex2\u001b[0m \u001b[1;33m=\u001b[0m \u001b[0mx\u001b[0m\u001b[1;33m\u001b[0m\u001b[1;33m\u001b[0m\u001b[0m\n\u001b[0;32m      8\u001b[0m                 \u001b[1;32mbreak\u001b[0m\u001b[1;33m\u001b[0m\u001b[1;33m\u001b[0m\u001b[0m\n\u001b[1;32m----> 9\u001b[1;33m     \u001b[0mcircuitDict\u001b[0m\u001b[1;33m[\u001b[0m\u001b[0mstr\u001b[0m\u001b[1;33m(\u001b[0m\u001b[0mqubit\u001b[0m\u001b[1;33m)\u001b[0m\u001b[1;33m]\u001b[0m\u001b[1;33m.\u001b[0m\u001b[0mreplace\u001b[0m\u001b[1;33m(\u001b[0m\u001b[0mindex2\u001b[0m\u001b[1;33m,\u001b[0m \u001b[1;33m[\u001b[0m\u001b[1;33m]\u001b[0m\u001b[1;33m)\u001b[0m\u001b[1;33m\u001b[0m\u001b[1;33m\u001b[0m\u001b[0m\n\u001b[0m\u001b[0;32m     10\u001b[0m     \u001b[0mcircuitDict\u001b[0m\u001b[1;33m[\u001b[0m\u001b[0mstr\u001b[0m\u001b[1;33m(\u001b[0m\u001b[0mqubit\u001b[0m\u001b[1;33m)\u001b[0m\u001b[1;33m]\u001b[0m\u001b[1;33m.\u001b[0m\u001b[0mreplace\u001b[0m\u001b[1;33m(\u001b[0m\u001b[0mdepth\u001b[0m\u001b[1;33m,\u001b[0m \u001b[1;33m[\u001b[0m\u001b[1;33m]\u001b[0m\u001b[1;33m)\u001b[0m\u001b[1;33m\u001b[0m\u001b[1;33m\u001b[0m\u001b[0m\n\u001b[0;32m     11\u001b[0m     \u001b[1;32mreturn\u001b[0m \u001b[0mcircuitDict\u001b[0m\u001b[1;33m\u001b[0m\u001b[1;33m\u001b[0m\u001b[0m\n",
      "\u001b[1;31mAttributeError\u001b[0m: 'list' object has no attribute 'replace'"
     ]
    }
   ],
   "source": [
    "circuit = openQASM('circuit.qasm')\n",
    "print(circuit)\n",
    "print(HHtoNone(0,0,circuit))"
   ]
  },
  {
   "cell_type": "code",
   "execution_count": null,
   "metadata": {},
   "outputs": [],
   "source": []
  }
 ],
 "metadata": {
  "kernelspec": {
   "display_name": "Python 3",
   "language": "python",
   "name": "python3"
  },
  "language_info": {
   "codemirror_mode": {
    "name": "ipython",
    "version": 3
   },
   "file_extension": ".py",
   "mimetype": "text/x-python",
   "name": "python",
   "nbconvert_exporter": "python",
   "pygments_lexer": "ipython3",
   "version": "3.8.5"
  }
 },
 "nbformat": 4,
 "nbformat_minor": 4
}
