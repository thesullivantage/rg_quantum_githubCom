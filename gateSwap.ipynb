{
 "cells": [
  {
   "cell_type": "code",
   "execution_count": 8,
   "metadata": {},
   "outputs": [],
   "source": [
    "import re\n",
    "import qiskit"
   ]
  },
  {
   "cell_type": "code",
   "execution_count": 65,
   "metadata": {},
   "outputs": [],
   "source": [
    "def QASMDict(gates):\n",
    "#     print(gates)\n",
    "    qasmDict = {} #  {'qbit number' : []}\n",
    "#     print(gates)\n",
    "    count = []\n",
    "    for x in range(len(gates)):\n",
    "        if x == 1 or x == 0:\n",
    "            continue\n",
    "        if gates[x][0] == 'qreg':\n",
    "            for y in range(int(gates[x][1][2])):\n",
    "                qasmDict[str(y)] = []\n",
    "#         print(list(qasmDict.keys()))\n",
    "        if len(count) == 0:\n",
    "            for b in list(qasmDict.keys()):\n",
    "                count.append(0)\n",
    "#         print(count)\n",
    "        if gates[x][0] != 'OPENQASM' and gates[x][0] != 'include' and gates[x][0] != 'qreg' and gates[x][0] != 'creg' and gates[x][0] != 'measure':\n",
    "            if len(gates[x])-1 > 1:\n",
    "                if count[int(gates[x][1][2])] > count[int(gates[x][2][2])]:\n",
    "                    qasmDict[str(gates[x][2][2])].append([])\n",
    "                    count[int(gates[x][2][2])] += 1\n",
    "                elif count[int(gates[x][1][2])] < count[int(gates[x][2][2])]:\n",
    "                    qasmDict[str(gates[x][1][2])].append([])\n",
    "                    count[int(gates[x][1][2])] += 1\n",
    "                qasmDict[str(gates[x][2][2])].append(gates[x])\n",
    "                qasmDict[str(gates[x][1][2])].append(gates[x])\n",
    "            else:\n",
    "                qasmDict[str(gates[x][1][2])].append(gates[x])\n",
    "                count[int(gates[x][1][2])] += 1\n",
    "#             for z in range(len(gates[x])-1):\n",
    "#                 qasmDict[str(gates[x][z+1][2])].append(gates[x])\n",
    "#                 count[int(gates[x][z+1][2])] += 1\n",
    "#         print(count.index(min(count)))\n",
    "#         print(count.index(max(count)))\n",
    "        uneven = True\n",
    "        while uneven:\n",
    "            uneven = False\n",
    "            minInd = count.index(min(count))\n",
    "            maxInd = count.index(max(count))\n",
    "            if count[maxInd] > count[minInd] + 1:\n",
    "                qasmDict[str(minInd)].append([])\n",
    "                count[minInd] += 1\n",
    "                uneven = True\n",
    "#         for a in count:\n",
    "            \n",
    "    return qasmDict\n",
    "\n",
    "def openQASM(qasm_loc):\n",
    "    qasm_f = open(qasm_loc, \"r\")\n",
    "    gates = []\n",
    "    for line in qasm_f:\n",
    "        gates.append( list(filter(None, re.split(\" |,\", line.strip()[:-1]))) )\n",
    "#     print(gates)\n",
    "    qasmDict = QASMDict(gates)\n",
    "    qasm_f.close()\n",
    "    return qasmDict\n"
   ]
  },
  {
   "cell_type": "code",
   "execution_count": 130,
   "metadata": {},
   "outputs": [],
   "source": [
    "#MAIN SWAPS\n",
    "def HHtoNone(qubit, depth, circuitDict):\n",
    "    index2 = depth + 1\n",
    "    if circuitDict[str(qubit)][depth + 1] == []:\n",
    "        for x in range(depth+1,len(circuitDict[str(qubit)])):\n",
    "            if circuitDict[str(qubit)][x] != []:\n",
    "                index2 = x\n",
    "                break\n",
    "    circuitDict[str(qubit)][index2] = []\n",
    "    circuitDict[str(qubit)][depth] = []\n",
    "    return circuitDict\n",
    "\n",
    "\n",
    "def NonetoHH(qubit, depth, circuitDict):\n",
    "    qString = 'q[' + str(qubit) + ']'\n",
    "    circuitDict[str(qubit)].insert(depth, ['h', qString])\n",
    "    circuitDict[str(qubit)].insert(depth, ['h', qString])\n",
    "    return circuitDict\n",
    "\n",
    "\n",
    "# Depth is cz depth\n",
    "def HZHtoCX(qubit, depth, circuitDict):\n",
    "    qString = 'q[' + str(qubit) + ']'\n",
    "    circuitDict[circuitDict[str(qubit)][depth][1][2]][depth][0] = 'cx'\n",
    "    circuitDict[str(qubit)][depth-1] = []\n",
    "    circuitDict[str(qubit)][depth][0] = 'cx'\n",
    "    circuitDict[str(qubit)][depth+1] = []\n",
    "#     print(circuitDict[circuitDict[str(qubit)][depth][1][2]][depth])\n",
    "    return circuitDict\n",
    "\n",
    "# Depth is cx depth\n",
    "def CXtoHZH(qubit, depth, circuitDict):\n",
    "    qString = 'q[' + str(qubit) + ']'\n",
    "    circuitDict[str(qubit)][depth][0] = 'cz'\n",
    "    circuitDict[circuitDict[str(qubit)][depth][1][2]][depth][0] = 'cz'\n",
    "    circuitDict[str(qubit)].insert(depth+1, ['h', qString])\n",
    "    circuitDict[str(qubit)].insert(depth, ['h', qString])\n",
    "    print(circuitDict)\n",
    "    \n",
    "    "
   ]
  },
  {
   "cell_type": "code",
   "execution_count": 131,
   "metadata": {
    "scrolled": true
   },
   "outputs": [],
   "source": [
    "def dictToQasm(circuitDict):\n",
    "    outText = \"OPENQASM 2.0;\\ninclude \\\"qelib1.inc\\\";\"\n",
    "#     print(len(circuitDict.keys()))\n",
    "    outText += '\\nqreg q[' + str(len(circuitDict.keys())) + '];\\ncreg c[' + str(len(circuitDict.keys())) + '];\\n'\n",
    "    \n",
    "    maxind = 0\n",
    "    for x in range(len(circuitDict.keys())):\n",
    "#         print(x)\n",
    "        if len(circuitDict[str(x)]) > len(circuitDict[str(maxind)]):\n",
    "            maxind = x\n",
    "    ind = 0\n",
    "    while len(circuitDict[str(maxind)]) > ind:\n",
    "        for y in range(len(circuitDict.keys())):\n",
    "            if len(circuitDict[str(y)]) > ind:\n",
    "                if circuitDict[str(y)][ind] == []:\n",
    "                    continue\n",
    "                elif len(circuitDict[str(y)][ind]) == 2:\n",
    "                    outText += circuitDict[str(y)][ind][0] + ' ' + circuitDict[str(y)][ind][1] + ';\\n'\n",
    "                elif len(circuitDict[str(y)][ind]) == 3:\n",
    "                    if circuitDict[str(y)][ind][2][2] == str(y):\n",
    "                        outText += circuitDict[str(y)][ind][0] + ' ' + circuitDict[str(y)][ind][1] + ',' + circuitDict[str(y)][ind][2] + ';\\n'\n",
    "        ind += 1\n",
    "    for z in range(len(circuitDict.keys())):\n",
    "        outText += 'measure q[' + str(z) + '] -> c[' + str(z) + '];\\n'\n",
    "            \n",
    "    return outText"
   ]
  },
  {
   "cell_type": "code",
   "execution_count": 132,
   "metadata": {
    "scrolled": true
   },
   "outputs": [
    {
     "name": "stdout",
     "output_type": "stream",
     "text": [
      "{'0': [['h', 'q[0]'], ['cz', 'q[1]', 'q[0]'], ['h', 'q[0]']], '1': [[], ['cz', 'q[1]', 'q[0]']]}\n",
      "{'0': [[], ['cx', 'q[1]', 'q[0]'], []], '1': [[], ['cx', 'q[1]', 'q[0]']]}\n",
      "{'0': [[], ['h', 'q[0]'], ['cz', 'q[1]', 'q[0]'], ['h', 'q[0]'], []], '1': [[], ['cz', 'q[1]', 'q[0]']]}\n"
     ]
    }
   ],
   "source": [
    "circuit = openQASM('circuit.qasm')\n",
    "print(circuit)\n",
    "dictToQasm(circuit)\n",
    "print(HZHtoCX(0,1,circuit))\n",
    "dictToQasm(circuit)\n",
    "CXtoHZH(0, 1, circuit)\n",
    "# print(circuit)"
   ]
  },
  {
   "cell_type": "code",
   "execution_count": 133,
   "metadata": {
    "scrolled": false
   },
   "outputs": [
    {
     "data": {
      "image/png": "[encoded data removed]",
      "text/plain": [
       "<Figure size 381.432x204.68 with 1 Axes>"
      ]
     },
     "execution_count": 133,
     "metadata": {},
     "output_type": "execute_result"
    }
   ],
   "source": [
    "circ = qiskit.QuantumCircuit.from_qasm_file('circuit.qasm')\n",
    "circ.draw(output='mpl')"
   ]
  },
  {
   "cell_type": "code",
   "execution_count": 134,
   "metadata": {},
   "outputs": [
    {
     "data": {
      "image/png": "[encoded data removed]",
      "text/plain": [
       "<Figure size 381.432x204.68 with 1 Axes>"
      ]
     },
     "execution_count": 134,
     "metadata": {},
     "output_type": "execute_result"
    }
   ],
   "source": [
    "circ_out = qiskit.QuantumCircuit.from_qasm_str(dictToQasm(circuit))\n",
    "circ_out.draw(output='mpl')"
   ]
  },
  {
   "cell_type": "code",
   "execution_count": null,
   "metadata": {},
   "outputs": [],
   "source": []
  }
 ],
 "metadata": {
  "kernelspec": {
   "display_name": "Python 3",
   "language": "python",
   "name": "python3"
  },
  "language_info": {
   "codemirror_mode": {
    "name": "ipython",
    "version": 3
   },
   "file_extension": ".py",
   "mimetype": "text/x-python",
   "name": "python",
   "nbconvert_exporter": "python",
   "pygments_lexer": "ipython3",
   "version": "3.8.5"
  }
 },
 "nbformat": 4,
 "nbformat_minor": 4
}
