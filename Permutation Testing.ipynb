{
 "cells": [
  {
   "cell_type": "code",
   "execution_count": 6,
   "metadata": {},
   "outputs": [],
   "source": [
    "# import sys\n",
    "# !{sys.executable} -m pip install z3-solver\n",
    "# !{sys.executable} -m pip install xacc-vqe\n",
    "# !{sys.executable} -m pip install xacc"
   ]
  },
  {
   "cell_type": "code",
   "execution_count": 3,
   "metadata": {},
   "outputs": [],
   "source": [
    "import z3\n",
    "import qiskit\n",
    "# import xacc\n",
    "import matplotlib.pyplot as plt\n",
    "import re"
   ]
  },
  {
   "cell_type": "code",
   "execution_count": 4,
   "metadata": {
    "scrolled": false
   },
   "outputs": [
    {
     "data": {
      "text/plain": [
       "{'0': [['h', 'q[0]'],\n",
       "  ['cz', 'q[1]', 'q[0]'],\n",
       "  ['h', 'q[0]'],\n",
       "  ['cx', 'q[1]', 'q[0]']],\n",
       " '1': [['h', 'q[1]'], ['cz', 'q[1]', 'q[0]'], ['cx', 'q[1]', 'q[0]']]}"
      ]
     },
     "execution_count": 4,
     "metadata": {},
     "output_type": "execute_result"
    }
   ],
   "source": [
    "def QASMDict(gates):\n",
    "#     print(gates)\n",
    "    qasmDict = {} #  {'qbit number' : []}\n",
    "#     print(gates)\n",
    "    for x in range(len(gates)):\n",
    "        if x == 1 or x == 0:\n",
    "            continue\n",
    "        if gates[x][0] == 'qreg':\n",
    "            for y in range(int(gates[x][1][2])):\n",
    "                qasmDict[str(y)] = []\n",
    "        if gates[x][0] != 'OPENQASM' and gates[x][0] != 'include' and gates[x][0] != 'qreg' and gates[x][0] != 'creg' and gates[x][0] != 'measure':\n",
    "            for z in range(len(gates[x])-1):\n",
    "                qasmDict[str(gates[x][z+1][2])].append(gates[x])\n",
    "    return qasmDict\n",
    "        \n",
    "            \n",
    "QASMDict([['OPENQASM', '2.0'], ['include', '\"qelib1.inc\"'], ['qreg', 'q[2]'], ['creg', 'c[2]'], ['h', 'q[0]'], ['h', 'q[1]'], ['cz', 'q[1]', 'q[0]'], ['h', 'q[0]'], ['cx', 'q[1]', 'q[0]'], ['measure', 'q[0]', '->', 'c[0]'], ['measure', 'q[1]', '->', 'c[1]']])"
   ]
  },
  {
   "cell_type": "code",
   "execution_count": 5,
   "metadata": {
    "scrolled": true
   },
   "outputs": [],
   "source": [
    "def HZHtoCNOTnew(qasm_loc, out_loc=None):\n",
    "    \n",
    "    qasm_f = open(qasm_loc, \"r\")\n",
    "\n",
    "    gates = []\n",
    "    for line in qasm_f:\n",
    "        gates.append( list(filter(None, re.split(\" |,\", line.strip()[:-1]))) )\n",
    "#     print(gates)\n",
    "    qasmDict = QASMDict(gates)\n",
    "    qasm_f.close()\n",
    "    out_gates = []\n",
    "    out_gates.append(['OPENQASM', '2.0'])\n",
    "    out_gates.append(['include', '\"qelib1.inc\"'])\n",
    "    out_gates.append(gates[2])\n",
    "    out_gates.append(gates[3])\n",
    "    print(qasmDict)\n",
    "\n",
    "    for qbit in qasmDict:\n",
    "        gate = 0\n",
    "        while gate < len(qasmDict[qbit]):\n",
    "\n",
    "            ## look for starting of an equivilency swap pattern\n",
    "            if qasmDict[qbit][gate][0] == 'h':\n",
    "                print(qasmDict[qbit][gate][0])\n",
    "                ## check double hadamard\n",
    "                try:\n",
    "#                     print(int(qasmDict[qbit][gate + 1][2][2]))\n",
    "                    if qasmDict[qbit][gate + 1][0] == 'h':\n",
    "#                         print('double')\n",
    "                        gate +=1\n",
    "                        # dont append anything to out gates\n",
    "                    elif qasmDict[qbit][gate + 1][0] == 'cz':\n",
    "                        if int(qasmDict[qbit][gate + 1][2][2]) == int(qbit) and qasmDict[qbit][gate + 2][0] == 'h':\n",
    "#                             print('we gottem bois')\n",
    "                            out_gates.append(['cx', qasmDict[qbit][gate + 1][1], qasmDict[qbit][gate + 1][2]])\n",
    "#                             print(gate)\n",
    "                            gate +=2\n",
    "#                             print(gate)\n",
    "                        else:\n",
    "                            out_gates.append(qasmDict[qbit][gate])\n",
    "                    else:\n",
    "                        out_gates.append(qasmDict[qbit][gate])\n",
    "                except:\n",
    "#                     print('last gate, cannot swap')\n",
    "#                     print(qasmDict[qbit][gate])\n",
    "                    out_gates.append(qasmDict[qbit][gate])\n",
    "            else:\n",
    "                if qasmDict[qbit][gate][0][0] == 'c':\n",
    "                    if int(qasmDict[qbit][gate][2][2]) == int(qbit):\n",
    "                        out_gates.append(qasmDict[qbit][gate])\n",
    "                else:\n",
    "                    out_gates.append(qasmDict[qbit][gate])\n",
    "            gate += 1\n",
    "#         print('end qbit')\n",
    "    for i in gates:\n",
    "        if i[0] == 'measure':\n",
    "            out_gates.append(i)\n",
    "#     print(out_gates)\n",
    "    out_txt = ''\n",
    "    for line in out_gates:\n",
    "        if len(line) > 2:\n",
    "            for l in range(1, len(line)-1):\n",
    "                if line[l][:2] == 'q[' and line[l+1][:2] == 'q[':\n",
    "                    line[l] = line[l] + ','\n",
    "\n",
    "        out_txt += ' '.join(line) + ';' + '\\n'\n",
    "    return out_txt\n",
    "# print(HZHtoCNOTnew('circuit.qasm'))"
   ]
  },
  {
   "cell_type": "code",
   "execution_count": 6,
   "metadata": {},
   "outputs": [],
   "source": [
    "# outputs replaced qasm circuit in a string\n",
    "def HZHtoCNOT(qasm_loc, out_loc=None):\n",
    "    \n",
    "    qasm_f = open(qasm_loc, \"r\")\n",
    "\n",
    "    gates = []\n",
    "    for line in qasm_f:\n",
    "        gates.append( list(filter(None, re.split(\" |,\", line.strip()[:-1]))) )\n",
    "#     print(gates)\n",
    "    qasm_f.close()\n",
    "\n",
    "    out_gates = []\n",
    "\n",
    "    qubits = 0\n",
    "    line_num = 0\n",
    "    gate_iter = iter(gates)\n",
    "\n",
    "    for line in gate_iter:\n",
    "        if line[0] == 'qreg':\n",
    "            qubits = int(line[1][2])\n",
    "            out_gates.append(line)\n",
    "\n",
    "        elif line[0] == 'h':\n",
    "            gate1 = line[1]\n",
    "            next_line = gates[line_num + 1]\n",
    "            if next_line[0] != 'cz' or next_line[2] != gate1:\n",
    "                out_gates.append(line)\n",
    "            else:\n",
    "                next_next_line = gates[line_num + 2]\n",
    "                if next_next_line[0] != 'h' or next_next_line[1] != gate1:\n",
    "                    out_gates.append(line)\n",
    "                else:\n",
    "                    out_gates.append(['cx', next_line[1], gate1])\n",
    "                    next(gate_iter)\n",
    "                    next(gate_iter)\n",
    "\n",
    "        else:\n",
    "            out_gates.append(line)\n",
    "\n",
    "        line_num += 1\n",
    "    \n",
    "    out_txt = \"\"\n",
    "    print(out_gates)\n",
    "    for line in out_gates:\n",
    "        if len(line) > 2:\n",
    "            for l in range(1, len(line)-1):\n",
    "                if line[l][:2] == 'q[' and line[l+1][:2] == 'q[':\n",
    "                    line[l] = line[l] + ','\n",
    "\n",
    "        out_txt += ' '.join(line) + ';' + '\\n'\n",
    "    \n",
    "    if (out_loc != None):\n",
    "        try:\n",
    "            with open(out_loc, 'w') as out_file: out_file.write(out_txt) \n",
    "        except:\n",
    "            print('Output file write failed!')\n",
    "    \n",
    "\n",
    "    return out_txt"
   ]
  },
  {
   "cell_type": "code",
   "execution_count": 25,
   "metadata": {
    "scrolled": true
   },
   "outputs": [
    {
     "name": "stdout",
     "output_type": "stream",
     "text": [
      "{'0': [['h', 'q[0]'], ['cz', 'q[1]', 'q[0]'], ['h', 'q[0]']], '1': [['cz', 'q[1]', 'q[0]']]}\n",
      "h\n",
      "OPENQASM 2.0;\n",
      "include \"qelib1.inc\";\n",
      "qreg q[2];\n",
      "creg c[2];\n",
      "cx q[1], q[0];\n",
      "measure q[0] -> c[0];\n",
      "measure q[1] -> c[1];\n",
      "\n"
     ]
    }
   ],
   "source": [
    "qasm_loc = 'circuit.qasm'\n",
    "out_txt = HZHtoCNOTnew(qasm_loc)\n",
    "print(out_txt)"
   ]
  },
  {
   "cell_type": "code",
   "execution_count": 26,
   "metadata": {
    "scrolled": true
   },
   "outputs": [
    {
     "data": {
      "image/png": "[encoded data removed]",
      "text/plain": [
       "<Figure size 381.432x204.68 with 1 Axes>"
      ]
     },
     "execution_count": 26,
     "metadata": {},
     "output_type": "execute_result"
    }
   ],
   "source": [
    "circ = qiskit.QuantumCircuit.from_qasm_file('circuit.qasm')\n",
    "circ.draw(output='mpl')"
   ]
  },
  {
   "cell_type": "code",
   "execution_count": 27,
   "metadata": {
    "scrolled": true
   },
   "outputs": [
    {
     "data": {
      "image/png": "[encoded data removed]",
      "text/plain": [
       "<Figure size 321.232x204.68 with 1 Axes>"
      ]
     },
     "execution_count": 27,
     "metadata": {},
     "output_type": "execute_result"
    }
   ],
   "source": [
    "circ_out = qiskit.QuantumCircuit.from_qasm_str(out_txt)\n",
    "circ_out.draw(output='mpl')"
   ]
  },
  {
   "cell_type": "code",
   "execution_count": 173,
   "metadata": {},
   "outputs": [],
   "source": [
    "# circ = qiskit.QuantumCircuit.from_qasm_file('circuit_out.qasm')\n",
    "# circ.draw(output='mpl')"
   ]
  },
  {
   "cell_type": "code",
   "execution_count": 143,
   "metadata": {},
   "outputs": [],
   "source": [
    "# # Test\n",
    "# # Not for edge cases\n",
    "\n",
    "# qasm_f = open(\"circuit.qasm\", \"r\")\n",
    "\n",
    "# gates = []\n",
    "# for line in qasm_f:\n",
    "#     gates.append( list(filter(None, re.split(\" |,\", line.strip()[:-1]))) )\n",
    "\n",
    "# qasm_f.close()\n",
    "\n",
    "# out_gates = []\n",
    "\n",
    "# qubits = 0\n",
    "# line_num = 0\n",
    "# gate_iter = iter(gates)\n",
    "\n",
    "# for line in gate_iter:\n",
    "#     if line[0] == 'qreg':\n",
    "#         qubits = int(line[1][2])\n",
    "#         out_gates.append(line)\n",
    "    \n",
    "#     elif line[0] == 'h':\n",
    "#         gate1 = line[1]\n",
    "#         next_line = gates[line_num + 1]\n",
    "#         if next_line[0] != 'cz' or next_line[2] != gate1:\n",
    "#             out_gates.append(line)\n",
    "#         else:\n",
    "#             next_next_line = gates[line_num + 2]\n",
    "#             if next_next_line[0] != 'h' or next_next_line[1] != gate1:\n",
    "#                 out_gates.append(line)\n",
    "#             else:\n",
    "#                 out_gates.append(['cx', next_line[1], gate1])\n",
    "#                 next(gate_iter)\n",
    "#                 next(gate_iter)\n",
    "    \n",
    "#     else:\n",
    "#         out_gates.append(line)\n",
    "    \n",
    "#     line_num += 1\n",
    "    \n"
   ]
  },
  {
   "cell_type": "code",
   "execution_count": 155,
   "metadata": {},
   "outputs": [],
   "source": [
    "# gates"
   ]
  },
  {
   "cell_type": "code",
   "execution_count": 156,
   "metadata": {},
   "outputs": [],
   "source": [
    "# out_gates"
   ]
  },
  {
   "cell_type": "code",
   "execution_count": 157,
   "metadata": {},
   "outputs": [],
   "source": [
    "# out_txt = \"\"\n",
    "# for line in out_gates:\n",
    "#     if len(line) > 2:\n",
    "#         for l in range(1, len(line)-1):\n",
    "#             if line[l][:2] == 'q[' and line[l+1][:2] == 'q[':\n",
    "#                 line[l] = line[l] + ','\n",
    "    \n",
    "#     out_txt += ' '.join(line) + ';' + '\\n'\n",
    "    \n",
    "# print(out_txt)"
   ]
  },
  {
   "cell_type": "code",
   "execution_count": 158,
   "metadata": {},
   "outputs": [],
   "source": [
    "# # Test\n",
    "# # import qiskit as q\n",
    "\n",
    "\n",
    "\n",
    "# # circuit = q.QuantumCircuit(2,2)\n",
    "# # circuit.x(0)\n",
    "# #\n",
    "# # circuit.draw()\n",
    "\n",
    "# def convertListQasm(list):\n",
    "#     qasm = ''\n",
    "#     for x in list:\n",
    "#         if x == '':\n",
    "#             continue\n",
    "#         qasm += x + ';\\n'\n",
    "#     return qasm\n",
    "\n",
    "\n",
    "\n",
    "# f = open('circuit.qasm', 'r')\n",
    "# qasmStr = f.read()\n",
    "# qasmList = qasmStr.split(';\\n')\n",
    "# print(convertListQasm(qasmList))\n",
    "# print(qasmList)\n",
    "# index = 2\n",
    "# numQ = 0\n",
    "# numC = 0\n",
    "# totalList = []\n",
    "# while index < len(qasmList):\n",
    "#     line = qasmList[index].split(' ')\n",
    "#     if (qasmList[index] == ''):\n",
    "#         index += 1\n",
    "#         continue\n",
    "#     elif line[0] == 'qreg':\n",
    "#         numQ = int(qasmList[index].split(' ')[1][2])\n",
    "#     elif line[0] == 'creg':\n",
    "#         numC = int(qasmList[index].split(' ')[1][2])\n",
    "#     elif line[0] == 'h':\n",
    "#         # its hadimard, check next to see if its hadimard as well then can get rid of both\n",
    "#     elif line[0] == 'z':\n",
    "#         # its z gate, check if next is the z gate\n",
    "#     elif line[0] == 'cz':\n",
    "#         # controlled z gates, can swap the qubits feeding the gates\n",
    "#         # check gate before and after to see if its hadimard, and if so swap all 3 with cx\n",
    "#     elif line[0] == '':\n",
    "#         #\n",
    "#     print(qasmList[index])\n",
    "#     index += 1\n",
    "    \n",
    "# print(numC)"
   ]
  }
 ],
 "metadata": {
  "kernelspec": {
   "display_name": "Python 3",
   "language": "python",
   "name": "python3"
  },
  "language_info": {
   "codemirror_mode": {
    "name": "ipython",
    "version": 3
   },
   "file_extension": ".py",
   "mimetype": "text/x-python",
   "name": "python",
   "nbconvert_exporter": "python",
   "pygments_lexer": "ipython3",
   "version": "3.8.5"
  }
 },
 "nbformat": 4,
 "nbformat_minor": 2
}
