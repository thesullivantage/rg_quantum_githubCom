{
 "cells": [
  {
   "cell_type": "code",
   "execution_count": 1,
   "metadata": {},
   "outputs": [],
   "source": [
    "import re\n",
    "import qiskit\n",
    "import random\n",
    "import math"
   ]
  },
  {
   "cell_type": "code",
   "execution_count": 12,
   "metadata": {},
   "outputs": [],
   "source": [
    "def QASMDict(gates):\n",
    "#     print(gates)\n",
    "    qasmDict = {} #  {'qbit number' : []}\n",
    "#     print(gates)\n",
    "    count = []\n",
    "    for x in range(len(gates)):\n",
    "        if x == 1 or x == 0:\n",
    "            continue\n",
    "        if gates[x][0] == 'qreg':\n",
    "            for y in range(int(gates[x][1][2])):\n",
    "                qasmDict[str(y)] = []\n",
    "#         print(list(qasmDict.keys()))\n",
    "        if len(count) == 0:\n",
    "            for b in list(qasmDict.keys()):\n",
    "                count.append(0)\n",
    "#         print(count)\n",
    "        if gates[x][0] != 'OPENQASM' and gates[x][0] != 'include' and gates[x][0] != 'qreg' and gates[x][0] != 'creg' and gates[x][0] != 'measure':\n",
    "            if len(gates[x])-1 > 1:\n",
    "                if count[int(gates[x][1][2])] > count[int(gates[x][2][2])]:\n",
    "                    qasmDict[str(gates[x][2][2])].append([None])\n",
    "                    count[int(gates[x][2][2])] += 1\n",
    "                elif count[int(gates[x][1][2])] < count[int(gates[x][2][2])]:\n",
    "                    qasmDict[str(gates[x][1][2])].append([None])\n",
    "                    count[int(gates[x][1][2])] += 1\n",
    "                qasmDict[str(gates[x][2][2])].append(gates[x])\n",
    "                qasmDict[str(gates[x][1][2])].append(gates[x])\n",
    "            else:\n",
    "                qasmDict[str(gates[x][1][2])].append(gates[x])\n",
    "                count[int(gates[x][1][2])] += 1\n",
    "#             for z in range(len(gates[x])-1):\n",
    "#                 qasmDict[str(gates[x][z+1][2])].append(gates[x])\n",
    "#                 count[int(gates[x][z+1][2])] += 1\n",
    "#         print(count.index(min(count)))\n",
    "#         print(count.index(max(count)))\n",
    "        uneven = True\n",
    "        while uneven:\n",
    "            uneven = False\n",
    "            minInd = count.index(min(count))\n",
    "            maxInd = count.index(max(count))\n",
    "            if count[maxInd] > count[minInd] + 1:\n",
    "                qasmDict[str(minInd)].append([None])\n",
    "                count[minInd] += 1\n",
    "                uneven = True\n",
    "#         for a in count:\n",
    "            \n",
    "    return qasmDict\n",
    "\n",
    "def openQASM(qasm_loc):\n",
    "    qasm_f = open(qasm_loc, \"r\")\n",
    "    gates = []\n",
    "    for line in qasm_f:\n",
    "        gates.append( list(filter(None, re.split(\" |,\", line.strip()[:-1]))) )\n",
    "    print(\"These are the raw gates\")\n",
    "#     print(gates)\n",
    "    qasmDict = QASMDict(gates)\n",
    "    qasm_f.close()\n",
    "    return qasmDict\n"
   ]
  },
  {
   "cell_type": "code",
   "execution_count": 4,
   "metadata": {},
   "outputs": [],
   "source": [
    "#MAIN SWAPS\n",
    "def HHtoNone(qubit, depth, circuitDict):\n",
    "    index2 = depth + 1\n",
    "    if circuitDict[qubit][depth + 1] == []:\n",
    "        for x in range(depth+1,len(circuitDict[qubit])):\n",
    "            if circuitDict[qubit][x] != []:\n",
    "                index2 = x\n",
    "                break\n",
    "    circuitDict[qubit][index2] = []\n",
    "    circuitDict[qubit][depth] = []\n",
    "    return circuitDict\n",
    "\n",
    "\n",
    "def NonetoHH(qubit, depth, circuitDict):\n",
    "    qString = 'q[' + qubit + ']'\n",
    "    circuitDict[qubit].insert(depth, ['h', qString])\n",
    "    circuitDict[qubit].insert(depth, ['h', qString])\n",
    "    return circuitDict\n",
    "\n",
    "\n",
    "# Depth is cz depth\n",
    "def HZHtoCX(qubit, depth, circuitDict):\n",
    "    qString = 'q[' + qubit + ']'\n",
    "    circuitDict[circuitDict[qubit][depth][1][2]][depth][0] = 'cx'\n",
    "    circuitDict[qubit][depth-1] = [None]\n",
    "    circuitDict[qubit][depth][0] = 'cx'\n",
    "    circuitDict[qubit][depth+1] = [None]\n",
    "#     print(circuitDict[circuitDict[qubit][depth][1][2]][depth])\n",
    "    return circuitDict\n",
    "\n",
    "# Depth is cx depth\n",
    "def CXtoHZH(qubit, depth, circuitDict):\n",
    "    qString = 'q[' + qubit + ']'\n",
    "    circuitDict[qubit][depth][0] = 'cz'\n",
    "    circuitDict[circuitDict[qubit][depth][1][2]][depth][0] = 'cz'\n",
    "    circuitDict[qubit].insert(depth+1, ['h', qString])\n",
    "    circuitDict[qubit].insert(depth, ['h', qString])\n",
    "    return circuitDict\n",
    "    \n",
    "    "
   ]
  },
  {
   "cell_type": "code",
   "execution_count": 5,
   "metadata": {
    "scrolled": true
   },
   "outputs": [],
   "source": [
    "def dictToQasm(circuitDict):\n",
    "    outText = \"OPENQASM 2.0;\\ninclude \\\"qelib1.inc\\\";\"\n",
    "#     print(len(circuitDict.keys()))\n",
    "    outText += '\\nqreg q[' + str(len(circuitDict.keys())) + '];\\ncreg c[' + str(len(circuitDict.keys())) + '];\\n'\n",
    "    \n",
    "    maxind = 0\n",
    "    for x in range(len(circuitDict.keys())):\n",
    "#         print(x)\n",
    "        if len(circuitDict[str(x)]) > len(circuitDict[str(maxind)]):\n",
    "            maxind = x\n",
    "    ind = 0\n",
    "    while len(circuitDict[str(maxind)]) > ind:\n",
    "        for y in range(len(circuitDict.keys())):\n",
    "            if len(circuitDict[str(y)]) > ind:\n",
    "                if circuitDict[str(y)][ind] == []:\n",
    "                    continue\n",
    "                elif len(circuitDict[str(y)][ind]) == 2:\n",
    "                    outText += circuitDict[str(y)][ind][0] + ' ' + circuitDict[str(y)][ind][1] + ';\\n'\n",
    "                elif len(circuitDict[str(y)][ind]) == 3:\n",
    "                    if circuitDict[str(y)][ind][2][2] == str(y):\n",
    "                        outText += circuitDict[str(y)][ind][0] + ' ' + circuitDict[str(y)][ind][1] + ',' + circuitDict[str(y)][ind][2] + ';\\n'\n",
    "        ind += 1\n",
    "    for z in range(len(circuitDict.keys())):\n",
    "        outText += 'measure q[' + str(z) + '] -> c[' + str(z) + '];\\n'\n",
    "            \n",
    "    return outText"
   ]
  },
  {
   "cell_type": "code",
   "execution_count": 6,
   "metadata": {},
   "outputs": [],
   "source": [
    "def swapList(circuitDict):\n",
    "\n",
    "    swapDict = {'HHtoNone': [], 'HZHtoCX': [], 'CXtoHZH': [], 'NonetoHH': []}\n",
    "\n",
    "    for qubit in circuitDict:\n",
    "        gates = circuitDict[qubit]\n",
    "\n",
    "        # go through all the gates for a qubit\n",
    "        for i in range(len(gates) - 1):\n",
    "            # HHtoNone\n",
    "            if (gates[i][0] == 'h') and (gates[i+1][0] == 'h'):\n",
    "                swapDict['HHtoNone'].append([qubit, i])\n",
    "\n",
    "            # HZHtoCX\n",
    "            if i > 0:\n",
    "                if (gates[i-1][0] == 'h') and (gates[i][0] == 'cz') and (gates[i+1][0] == 'h') and (gates[i-1][-1] == gates[i][-1]):\n",
    "                    swapDict['HZHtoCX'].append([qubit, i])\n",
    "\n",
    "            # CXtoHZH\n",
    "            if (gates[i][0] == 'cx') :\n",
    "                swapDict['CXtoHZH'].append([qubit, i])\n",
    "\n",
    "            # None to HH\n",
    "            swapDict['NonetoHH'].append([qubit, i])\n",
    "        # None to HH\n",
    "        swapDict['NonetoHH'].append([qubit, len(gates)-1])\n",
    "        \n",
    "    return swapDict"
   ]
  },
  {
   "cell_type": "code",
   "execution_count": 36,
   "metadata": {},
   "outputs": [
    {
     "name": "stdout",
     "output_type": "stream",
     "text": [
      "These are the raw gates\n",
      "{'0': [['cx', 'q[1]', 'q[0]'], [None], [None], ['cx', 'q[1]', 'q[0]'], ['h', 'q[0]'], ['h', 'q[0]'], ['h', 'q[0]']], '1': [['cx', 'q[1]', 'q[0]'], ['h', 'q[1]'], ['h', 'q[1]'], ['cx', 'q[1]', 'q[0]'], [None], [None]]}\n",
      "{'0': [], '1': []}\n",
      "6\n",
      "[{'0': [['cx', 'q[1]', 'q[0]'], [None]], '1': [['cx', 'q[1]', 'q[0]'], ['h', 'q[1]']]}, {'0': [[None], ['cx', 'q[1]', 'q[0]']], '1': [['h', 'q[1]'], ['cx', 'q[1]', 'q[0]']]}, {'0': [['h', 'q[0]'], ['h', 'q[0]']], '1': [[None], [None]]}, {'0': [['h', 'q[0]']], '1': []}]\n"
     ]
    },
    {
     "data": {
      "text/html": [
       "<pre style=\"word-wrap: normal;white-space: pre;background: #fff0;line-height: 1.1;font-family: &quot;Courier New&quot;,Courier,monospace\">     ┌───┐┌─┐\n",
       "q_0: ┤ H ├┤M├\n",
       "     └┬─┬┘└╥┘\n",
       "q_1: ─┤M├──╫─\n",
       "      └╥┘  ║ \n",
       "c: 2/══╩═══╩═\n",
       "       1   0 </pre>"
      ],
      "text/plain": [
       "     ┌───┐┌─┐\n",
       "q_0: ┤ H ├┤M├\n",
       "     └┬─┬┘└╥┘\n",
       "q_1: ─┤M├──╫─\n",
       "      └╥┘  ║ \n",
       "c: 2/══╩═══╩═\n",
       "       1   0 "
      ]
     },
     "execution_count": 36,
     "metadata": {},
     "output_type": "execute_result"
    }
   ],
   "source": [
    "def slicer(circuitQasm, depth):\n",
    "    circuit = openQASM(circuitQasm)\n",
    "    base = dict(circuit)\n",
    "    for qubit in base:\n",
    "        base[qubit] = []\n",
    "    print(circuit)\n",
    "    print(base)\n",
    "    leastLen = 9999999999\n",
    "    maxLen = 0\n",
    "    for x in circuit:\n",
    "        if len(circuit[x]) < leastLen:\n",
    "            leastLen = len(circuit[x])\n",
    "        if len(circuit[x]) > maxLen:\n",
    "            maxLen = len(circuit[x])\n",
    "    if depth > leastLen or (depth == leastLen and depth == maxLen):\n",
    "        return dictToQasm(circuitQasm)\n",
    "    print(leastLen)\n",
    "    numSubCircuits = math.floor(leastLen/depth)\n",
    "    subCircuitList = []\n",
    "    for subCirc in range(numSubCircuits):\n",
    "        subCircuitList.append(dict(base))\n",
    "        for q in subCircuitList[subCirc]:\n",
    "            subCircuitList[subCirc][q] = circuit[q][0:depth]\n",
    "#             print(subCircuitList)\n",
    "            del circuit[q][0:depth]\n",
    "    if circuit != dict(base):\n",
    "        subCircuitList.append(circuit)\n",
    "    qasmList = []\n",
    "    print(subCircuitList)\n",
    "    for dictCircuit in subCircuitList:\n",
    "        qasmList.append(dictToQasm(dictCircuit))\n",
    "    return qasmList\n",
    "sliced = slicer('circuit.qasm', 2)\n",
    "# print(sliced)\n",
    "circ_out = qiskit.QuantumCircuit.from_qasm_str(sliced[3])\n",
    "circ_out.draw()\n",
    "\n",
    "    "
   ]
  },
  {
   "cell_type": "code",
   "execution_count": 20,
   "metadata": {},
   "outputs": [
    {
     "name": "stdout",
     "output_type": "stream",
     "text": [
      "These are the raw gates\n",
      "[['OPENQASM', '2.0'], ['include', '\"qelib1.inc\"'], ['qreg', 'q[2]'], ['creg', 'c[2]'], ['cx', 'q[1]', 'q[0]'], ['h', 'q[1]'], ['h', 'q[1]'], ['cx', 'q[1]', 'q[0]'], ['measure', 'q[0]', '->', 'c[0]'], ['measure', 'q[1]', '->', 'c[1]']]\n",
      "{'0': [['cx', 'q[1]', 'q[0]'], [None], [None], ['cx', 'q[1]', 'q[0]']], '1': [['cx', 'q[1]', 'q[0]'], ['h', 'q[1]'], ['h', 'q[1]'], ['cx', 'q[1]', 'q[0]']]}\n",
      "{'HHtoNone': [['1', 1]], 'HZHtoCX': [], 'CXtoHZH': [['0', 0], ['1', 0]], 'NonetoHH': [['0', 0], ['0', 1], ['0', 2], ['0', 3], ['1', 0], ['1', 1], ['1', 2], ['1', 3]]}\n",
      "{'0': [['cx', 'q[1]', 'q[0]'], [None], [None], ['cx', 'q[1]', 'q[0]']], '1': [['cx', 'q[1]', 'q[0]'], [], [], ['cx', 'q[1]', 'q[0]']]}\n"
     ]
    }
   ],
   "source": [
    "circuit = openQASM('circuit.qasm')\n",
    "print(circuit)\n",
    "\n",
    "swapDict = swapList(circuit)\n",
    "print(swapDict)\n",
    "# qubit, depth = random.choice(swapDict['HZHtoCX'])\n",
    "\n",
    "print(HHtoNone('1', 1, circuit))\n",
    "\n",
    "# print(CXtoHZH(qubit, depth, circuit))\n",
    "\n"
   ]
  },
  {
   "cell_type": "code",
   "execution_count": 22,
   "metadata": {
    "scrolled": true
   },
   "outputs": [
    {
     "data": {
      "text/html": [
       "<pre style=\"word-wrap: normal;white-space: pre;background: #fff0;line-height: 1.1;font-family: &quot;Courier New&quot;,Courier,monospace\">     ┌───┐          ┌───┐┌───┐┌───┐┌───┐┌─┐\n",
       "q_0: ┤ X ├──────────┤ X ├┤ H ├┤ H ├┤ H ├┤M├\n",
       "     └─┬─┘┌───┐┌───┐└─┬─┘└┬─┬┘└───┘└───┘└╥┘\n",
       "q_1: ──■──┤ H ├┤ H ├──■───┤M├────────────╫─\n",
       "          └───┘└───┘      └╥┘            ║ \n",
       "c: 2/══════════════════════╩═════════════╩═\n",
       "                           1             0 </pre>"
      ],
      "text/plain": [
       "     ┌───┐          ┌───┐┌───┐┌───┐┌───┐┌─┐\n",
       "q_0: ┤ X ├──────────┤ X ├┤ H ├┤ H ├┤ H ├┤M├\n",
       "     └─┬─┘┌───┐┌───┐└─┬─┘└┬─┬┘└───┘└───┘└╥┘\n",
       "q_1: ──■──┤ H ├┤ H ├──■───┤M├────────────╫─\n",
       "          └───┘└───┘      └╥┘            ║ \n",
       "c: 2/══════════════════════╩═════════════╩═\n",
       "                           1             0 "
      ]
     },
     "execution_count": 22,
     "metadata": {},
     "output_type": "execute_result"
    }
   ],
   "source": [
    "circ = qiskit.QuantumCircuit.from_qasm_file('circuit.qasm')\n",
    "circ.draw()"
   ]
  },
  {
   "cell_type": "code",
   "execution_count": 22,
   "metadata": {},
   "outputs": [
    {
     "data": {
      "text/html": [
       "<pre style=\"word-wrap: normal;white-space: pre;background: #fff0;line-height: 1.1;font-family: &quot;Courier New&quot;,Courier,monospace\">     ┌───┐┌───┐┌─┐   \n",
       "q_0: ┤ X ├┤ X ├┤M├───\n",
       "     └─┬─┘└─┬─┘└╥┘┌─┐\n",
       "q_1: ──■────■───╫─┤M├\n",
       "                ║ └╥┘\n",
       "c: 2/═══════════╩══╩═\n",
       "                0  1 </pre>"
      ],
      "text/plain": [
       "     ┌───┐┌───┐┌─┐   \n",
       "q_0: ┤ X ├┤ X ├┤M├───\n",
       "     └─┬─┘└─┬─┘└╥┘┌─┐\n",
       "q_1: ──■────■───╫─┤M├\n",
       "                ║ └╥┘\n",
       "c: 2/═══════════╩══╩═\n",
       "                0  1 "
      ]
     },
     "execution_count": 22,
     "metadata": {},
     "output_type": "execute_result"
    }
   ],
   "source": [
    "circ_out = qiskit.QuantumCircuit.from_qasm_str(dictToQasm(circuit))\n",
    "circ_out.draw()"
   ]
  },
  {
   "cell_type": "code",
   "execution_count": null,
   "metadata": {},
   "outputs": [],
   "source": []
  }
 ],
 "metadata": {
  "kernelspec": {
   "display_name": "Python 3",
   "language": "python",
   "name": "python3"
  },
  "language_info": {
   "codemirror_mode": {
    "name": "ipython",
    "version": 3
   },
   "file_extension": ".py",
   "mimetype": "text/x-python",
   "name": "python",
   "nbconvert_exporter": "python",
   "pygments_lexer": "ipython3",
   "version": "3.8.5"
  }
 },
 "nbformat": 4,
 "nbformat_minor": 4
}
