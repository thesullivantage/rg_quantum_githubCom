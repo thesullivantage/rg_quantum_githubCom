{
 "cells": [
  {
   "cell_type": "code",
   "execution_count": 2,
   "metadata": {},
   "outputs": [
    {
     "name": "stdout",
     "output_type": "stream",
     "text": [
      "The autoreload extension is already loaded. To reload it, use:\n",
      "  %reload_ext autoreload\n"
     ]
    }
   ],
   "source": [
    "%load_ext autoreload\n",
    "%autoreload 2\n",
    "import re\n",
    "import qiskit\n",
    "from qiskit import IBMQ\n",
    "import random\n",
    "import math\n",
    "from Gate import QGate"
   ]
  },
  {
   "cell_type": "code",
   "execution_count": 4,
   "metadata": {},
   "outputs": [
    {
     "name": "stderr",
     "output_type": "stream",
     "text": [
      "configrc.store_credentials:WARNING:2021-10-07 16:17:31,764: Credentials already present. Set overwrite=True to overwrite.\n",
      "ibmqfactory.load_account:WARNING:2021-10-07 16:17:32,009: Credentials are already in use. The existing account in the session will be replaced.\n"
     ]
    },
    {
     "name": "stdout",
     "output_type": "stream",
     "text": [
      "<qiskit.providers.models.backendconfiguration.PulseBackendConfiguration object at 0x131f640a0>\n"
     ]
    }
   ],
   "source": [
    "IBMQ.save_account('48bfe32c2f27859552a61eaf94c289db1bab171193a72ed29d1115efecfddf2d83c2ef72d0d9d259d439bd10eed366ec99a61745e3a34dac5520e8f067c048a1')\n",
    "\n",
    "IBMQ.load_account()\n",
    "provider = IBMQ.get_provider()\n",
    "\n",
    "system = provider.get_backend('ibmq_quito')\n",
    "\n",
    "print(system.configuration())\n",
    "# print(backend)"
   ]
  },
  {
   "cell_type": "code",
   "execution_count": 34,
   "metadata": {},
   "outputs": [],
   "source": [
    "def QASMDict(gates, circuitData):\n",
    "    print(gates)\n",
    "    qasmDict = {} #  {'qbit number' : []}\n",
    "    newQasmDict = {}\n",
    "#     print(gates)\n",
    "    # the count array is an array that has a number j in an index i that would represent that qubit i has j objects\n",
    "    count = []\n",
    "    #we will treat the circuitData list as a stack and keep an index for the current gate we are on\n",
    "    dataIndex = 0\n",
    "    for x in range(len(gates)):\n",
    "        if x == 1 or x == 0:\n",
    "            continue\n",
    "        # instantiate the qasm dict with the correct number of qubits\n",
    "        if gates[x][0] == 'qreg':\n",
    "            for y in range(int(gates[x][1][2])):\n",
    "                qasmDict[str(y)] = []\n",
    "                newQasmDict[str(y)] = []\n",
    "#         print(list(qasmDict.keys()))\n",
    "        if len(count) == 0:\n",
    "            for b in list(qasmDict.keys()):\n",
    "                count.append(0)\n",
    "        print(\"this is the count array\")\n",
    "        print(count)\n",
    "        if gates[x][0] != 'OPENQASM' and gates[x][0] != 'include' and gates[x][0] != 'qreg' and gates[x][0] != 'creg' and gates[x][0] != 'measure':\n",
    "            if len(gates[x])-1 > 1:\n",
    "                # adding multi qubit gates\n",
    "                if count[int(gates[x][1][2])] > count[int(gates[x][2][2])]:\n",
    "                    qasmDict[str(gates[x][2][2])].append([None])\n",
    "                    newQasmDict[str(gates[x][2][2])].append(QGate())\n",
    "                    count[int(gates[x][2][2])] += 1\n",
    "                elif count[int(gates[x][1][2])] < count[int(gates[x][2][2])]:\n",
    "                    qasmDict[str(gates[x][1][2])].append([None])\n",
    "                    newQasmDict[str(gates[x][1][2])].append(QGate())\n",
    "                    count[int(gates[x][1][2])] += 1\n",
    "                qasmDict[str(gates[x][2][2])].append(gates[x])\n",
    "                qasmDict[str(gates[x][1][2])].append(gates[x])\n",
    "                newQasmDict[str(gates[x][2][2])].append(QGate(gates[x][0], circuitData[dataIndex][0], str(gates[x][2][2]), str(gates[x][1][2]), isControl=True))\n",
    "                newQasmDict[str(gates[x][1][2])].append(QGate(gates[x][0], circuitData[dataIndex][0], str(gates[x][2][2]), str(gates[x][1][2]), isControl=True))\n",
    "                count[int(gates[x][1][2])] += 1\n",
    "                count[int(gates[x][2][2])] += 1\n",
    "\n",
    "#                 print(gates[x][2])\n",
    "                dataIndex += 1\n",
    "            else:\n",
    "                #adding single qubit gates\n",
    "                qasmDict[str(gates[x][1][2])].append(gates[x])\n",
    "#                 print(newQasmDict)\n",
    "#                 print(circuitData[dataIndex][0])\n",
    "                newGate = QGate()\n",
    "                newQasmDict[str(gates[x][1][2])].append(QGate(gates[x][0], circuitData[dataIndex][0], str(gates[x][1][2])))\n",
    "                count[int(gates[x][1][2])] += 1\n",
    "                dataIndex += 1\n",
    "#             for z in range(len(gates[x])-1):\n",
    "#                 qasmDict[str(gates[x][z+1][2])].append(gates[x])\n",
    "#                 count[int(gates[x][z+1][2])] += 1\n",
    "#         print(count.index(min(count)))\n",
    "#         print(count.index(max(count)))\n",
    "        #even out the circuitDict with empty gates\n",
    "        uneven = True\n",
    "        while uneven:\n",
    "            uneven = False\n",
    "            minInd = count.index(min(count))\n",
    "            maxInd = count.index(max(count))\n",
    "            if count[maxInd] > count[minInd] + 1:\n",
    "                qasmDict[str(minInd)].append([None])\n",
    "                newQasmDict[str(minInd)].append(QGate())\n",
    "                count[minInd] += 1\n",
    "                uneven = True\n",
    "        print(qasmDict)\n",
    "#         for a in count:\n",
    "    print(newQasmDict)      \n",
    "    return qasmDict, newQasmDict\n",
    "\n",
    "def openQASM(qasm_loc):\n",
    "    circ = qiskit.QuantumCircuit.from_qasm_file(qasm_loc)\n",
    "    qasm_f = open(qasm_loc, \"r\")\n",
    "    gates = []\n",
    "    for line in qasm_f:\n",
    "        gates.append( list(filter(None, re.split(\" |,\", line.strip()[:-1]))) )\n",
    "#     print(\"These are the raw gates\")\n",
    "#     print(gates)\n",
    "    qasmDict = QASMDict(gates, circ.data)\n",
    "    qasm_f.close()\n",
    "    return qasmDict\n"
   ]
  },
  {
   "cell_type": "code",
   "execution_count": 22,
   "metadata": {},
   "outputs": [],
   "source": [
    "#MAIN SWAPS\n",
    "def HHtoNone(qubit, depth, circuitDict):\n",
    "    index2 = depth + 1\n",
    "    if circuitDict[qubit][depth + 1] == []:\n",
    "        for x in range(depth+1,len(circuitDict[qubit])):\n",
    "            if circuitDict[qubit][x] != []:\n",
    "                index2 = x\n",
    "                break\n",
    "    circuitDict[qubit][index2] = []\n",
    "    circuitDict[qubit][depth] = []\n",
    "    return circuitDict\n",
    "\n",
    "def HHtoNoneObj(qubit, depth, circuitDict):\n",
    "    index2 = depth + 1\n",
    "    if circuitDict[qubit][depth + 1].type == None:\n",
    "        for x in range(depth+1,len(circuitDict[qubit])):\n",
    "            if circuitDict[qubit][x].type != None:\n",
    "                index2 = x\n",
    "                break\n",
    "    circuitDict[qubit][index2].clear()\n",
    "    circuitDict[qubit][depth].clear()\n",
    "    return circuitDict\n",
    "\n",
    "\n",
    "def NonetoHH(qubit, depth, circuitDict):\n",
    "    qString = 'q[' + qubit + ']'\n",
    "    circuitDict[qubit].insert(depth, ['h', qString])\n",
    "    circuitDict[qubit].insert(depth, ['h', qString])\n",
    "    return circuitDict\n",
    "\n",
    "def NonetoHHObj(qubit, depth, circuitDict):\n",
    "    qString = 'q[' + qubit + ']'\n",
    "    circuitDict[qubit].insert(depth, QGate('h', None, qubit))\n",
    "    circuitDict[qubit].insert(depth, QGate('h', None, qubit))\n",
    "    for x in circuitDict.keys():\n",
    "        if x != qubit:\n",
    "            circuitDict[x].insert(depth, QGate())\n",
    "            circuitDict[x].insert(depth, QGate())\n",
    "    return circuitDict\n",
    "\n",
    "\n",
    "# Depth is cz depth\n",
    "def HZHtoCX(qubit, depth, circuitDict):\n",
    "    qString = 'q[' + qubit + ']'\n",
    "    circuitDict[circuitDict[qubit][depth][1][2]][depth][0] = 'cx'\n",
    "    circuitDict[qubit][depth-1] = [None]\n",
    "    circuitDict[qubit][depth][0] = 'cx'\n",
    "    circuitDict[qubit][depth+1] = [None]\n",
    "#     print(circuitDict[circuitDict[qubit][depth][1][2]][depth])\n",
    "    return circuitDict\n",
    "\n",
    "def HZHtoCXObj(qubit, depth, circuitDict):\n",
    "    circuitDict[circuitDict[qubit][depth].controlBit][depth].type = 'cx'\n",
    "    circuitDict[qubit][depth-1].clear()\n",
    "    circuitDict[circuitDict[qubit][depth].mainBit][depth].type = 'cx'\n",
    "    circuitDict[qubit][depth+1].clear()\n",
    "    return circuitDict\n",
    "\n",
    "# Depth is cx depth\n",
    "def CXtoHZH(qubit, depth, circuitDict):\n",
    "    qString = 'q[' + qubit + ']'\n",
    "    circuitDict[qubit][depth][0] = 'cz'\n",
    "    circuitDict[circuitDict[qubit][depth][1][2]][depth][0] = 'cz'\n",
    "    circuitDict[qubit].insert(depth+1, ['h', qString])\n",
    "    circuitDict[qubit].insert(depth, ['h', qString])\n",
    "    return circuitDict\n",
    "\n",
    "def CXtoHZHObj(qubit, depth, circuitDict):\n",
    "    circuitDict[circuitDict[qubit][depth].controlBit][depth].type = 'cz'\n",
    "    circuitDict[circuitDict[qubit][depth].mainBit][depth].type = 'cz'\n",
    "    for x in circuitDict.keys():\n",
    "        if x != qubit:\n",
    "            circuitDict[x].insert(depth+1, QGate())\n",
    "            circuitDict[x].insert(depth, QGate())\n",
    "        else:\n",
    "            circuitDict[qubit].insert(depth+1, QGate('h', None, qubit))\n",
    "            circuitDict[qubit].insert(depth, QGate('h', None, qubit))    \n",
    "    return circuitDict\n",
    "    \n",
    "def CNOTCTtoMTC(qubit, depth, circuitDict):#CNOTTCtoMCT means CNOT where passed in qubit has Control C then Target T to Mirror Target Control. Mirror is the added CNOT\n",
    "    #depth is the depth of the first control\n",
    "    #qubit is the qubit with the first control\n",
    "    #Find the qubits that the CNOT is on\n",
    "    qubit2 = circuitDict[qubit][depth].mainBit\n",
    "    qubit3 = circuitDict[qubit][depth+1].controlBit\n",
    "    #Insert the first big CNOT\n",
    "    circuitDict[qubit2].insert(depth, QGate('cx', qubit2, qubit3))\n",
    "    circuitDict[qubit3].insert(depth, QGate('cx', qubit2, qubit3))\n",
    "    circuitDict[qubit].insert(depth, QGate('cx', qubit2, qubit3))\n",
    "    circuitDict[qubit][depth].clear()\n",
    "    #Clear the inital small CNOT\n",
    "    circuitDict[qubit][depth+1].clear()\n",
    "    circuitDict[qubit2][depth+1].clear()\n",
    "    #Add the initial small CNOT after second initial small CNOT\n",
    "    circuitDict[qubit].insert(depth+3, QGate('cx', qubit2, qubit))\n",
    "    circuitDict[qubit2].insert(depth+3, QGate('cx', qubit2, qubit))\n",
    "    circuitDict[qubit3].insert(depth+3, QGate('cx', qubit2, qubit))\n",
    "    circuitDict[qubit3][depth+3].clear()\n",
    "    return circuitDict\n",
    "\n",
    "def CNOTTCtoMCT(qubit, depth, circuitDict):#CNOTCTtoMCT means CNOT where passed in qubit has Target T then Control C to Mirror Target Control. Mirror is the added CNOT\n",
    "    #depth is the depth of the first control\n",
    "    #qubit is the qubit with the first control\n",
    "    #Find the qubits that the CNOT is on\n",
    "    qubit2 = circuitDict[qubit][depth].controlBit\n",
    "    qubit3 = circuitDict[qubit][depth+1].mainBit\n",
    "    #Insert the first big CNOT\n",
    "    circuitDict[qubit2].insert(depth, QGate('cx', qubit3, qubit2))\n",
    "    circuitDict[qubit3].insert(depth, QGate('cx', qubit3, qubit2))\n",
    "    circuitDict[qubit].insert(depth, QGate('cx', qubit3, qubit2))\n",
    "    circuitDict[qubit][depth].clear()\n",
    "    #Clear the inital small CNOT\n",
    "    circuitDict[qubit][depth+1].clear()\n",
    "    circuitDict[qubit2][depth+1].clear()\n",
    "    #Add the initial small CNOT after second initial small CNOT\n",
    "    circuitDict[qubit].insert(depth+3, QGate('cx', qubit, qubit2))\n",
    "    circuitDict[qubit2].insert(depth+3, QGate('cx', qubit, qubit2))\n",
    "    circuitDict[qubit3].insert(depth+3, QGate('cx', qubit, qubit2))\n",
    "    circuitDict[qubit3][depth+3].clear()\n",
    "    return circuitDict\n",
    "\n",
    "def CNOTMTCtoCT(qubit, depth, circuitDict):\n",
    "    #depth is the depth of the first control\n",
    "    #qubit is the qubit with the first control\n",
    "    #Find the qubits that the CNOT is on\n",
    "    qubit2 = circuitDict[qubit][depth].mainBit\n",
    "    qubit3 = circuitDict[qubit][depth+1].mainBit\n",
    "    #clear the first CNOT\n",
    "    circuitDict[qubit][depth].clear()\n",
    "    circuitDict[qubit2][depth].clear()\n",
    "    #clear the second CNOT\n",
    "    circuitDict[qubit][depth+1].clear()\n",
    "    circuitDict[qubit3][depth+1].clear()\n",
    "    #Add the middle CNOT to the end\n",
    "    circuitDict[qubit].insert(depth+3, QGate('cx', qubit3, qubit))\n",
    "    circuitDict[qubit2].insert(depth+3, QGate('cx', qubit3, qubit))\n",
    "    circuitDict[qubit3].insert(depth+3, QGate('cx', qubit3, qubit))\n",
    "    circuitDict[qubit2][depth+3].clear()\n",
    "    return circuitDict\n",
    "\n",
    "def CNOTMCTtoTC(qubit, depth, circuitDict):\n",
    "    #depth is the depth of the first control\n",
    "    #qubit is the qubit with the first control\n",
    "    #Find the qubits that the CNOT is on\n",
    "    qubit2 = circuitDict[qubit][depth].mainBit\n",
    "    qubit3 = circuitDict[qubit2][depth+1].controlBit\n",
    "    #clear the first CNOT\n",
    "    circuitDict[qubit][depth].clear()\n",
    "    circuitDict[qubit2][depth].clear()\n",
    "    #clear the second CNOT\n",
    "    circuitDict[qubit2][depth+1].clear()\n",
    "    circuitDict[qubit3][depth+1].clear()\n",
    "    #Add the middle CNOT to the end\n",
    "    circuitDict[qubit].insert(depth+3, QGate('cx', qubit2, qubit3))\n",
    "    circuitDict[qubit2].insert(depth+3, QGate('cx', qubit2, qubit3))\n",
    "    circuitDict[qubit3].insert(depth+3, QGate('cx', qubit2, qubit3))\n",
    "    circuitDict[qubit][depth+3].clear()\n",
    "    return circuitDict"
   ]
  },
  {
   "cell_type": "code",
   "execution_count": 23,
   "metadata": {
    "scrolled": true
   },
   "outputs": [],
   "source": [
    "def dictToQasm(circuitDict):\n",
    "    outText = \"OPENQASM 2.0;\\ninclude \\\"qelib1.inc\\\";\"\n",
    "#     print(len(circuitDict.keys()))\n",
    "    outText += '\\nqreg q[' + str(len(circuitDict.keys())) + '];\\ncreg c[' + str(len(circuitDict.keys())) + '];\\n'\n",
    "    \n",
    "    maxind = 0\n",
    "    for x in range(len(circuitDict.keys())):\n",
    "#         print(x)\n",
    "        if len(circuitDict[str(x)]) > len(circuitDict[str(maxind)]):\n",
    "            maxind = x\n",
    "    ind = 0\n",
    "    while len(circuitDict[str(maxind)]) > ind:\n",
    "        for y in range(len(circuitDict.keys())):\n",
    "            if len(circuitDict[str(y)]) > ind:\n",
    "                if circuitDict[str(y)][ind] == []:\n",
    "                    continue\n",
    "                elif len(circuitDict[str(y)][ind]) == 2:\n",
    "                    outText += circuitDict[str(y)][ind].type + ' ' + circuitDict[str(y)][ind][1] + ';\\n'\n",
    "                elif len(circuitDict[str(y)][ind]) == 3:\n",
    "                    if circuitDict[str(y)][ind][2][2] == str(y):\n",
    "                        outText += circuitDict[str(y)][ind][0] + ' ' + circuitDict[str(y)][ind][1] + ',' + circuitDict[str(y)][ind][2] + ';\\n'\n",
    "        ind += 1\n",
    "    for z in range(len(circuitDict.keys())):\n",
    "        outText += 'measure q[' + str(z) + '] -> c[' + str(z) + '];\\n'\n",
    "            \n",
    "    return outText\n",
    "\n",
    "\n",
    "def objDictToQasm(circuitDict):\n",
    "    outText = \"OPENQASM 2.0;\\ninclude \\\"qelib1.inc\\\";\"\n",
    "#     print(len(circuitDict.keys()))\n",
    "    outText += '\\nqreg q[' + str(len(circuitDict.keys())) + '];\\ncreg c[' + str(len(circuitDict.keys())) + '];\\n'\n",
    "    \n",
    "    maxind = 0\n",
    "    for x in range(len(circuitDict.keys())):\n",
    "#         print(x)\n",
    "        if len(circuitDict[str(x)]) > len(circuitDict[str(maxind)]):\n",
    "            maxind = x\n",
    "    ind = 0\n",
    "    while len(circuitDict[str(maxind)]) > ind:\n",
    "        for y in range(len(circuitDict.keys())):\n",
    "            if len(circuitDict[str(y)]) > ind:\n",
    "                if circuitDict[str(y)][ind].type == None:\n",
    "                    continue\n",
    "                elif circuitDict[str(y)][ind].mainBit == str(y):\n",
    "                    outText +=circuitDict[str(y)][ind].qasmString()\n",
    "#                 elif circuitDict[str(y)][ind].controlBit == None:\n",
    "#                     outText += circuitDict[str(y)][ind][0] + ' ' + circuitDict[str(y)][ind][1] + ';\\n'\n",
    "#                 else:\n",
    "#                     if circuitDict[str(y)][ind][2][2] == str(y):\n",
    "#                         outText += circuitDict[str(y)][ind][0] + ' ' + circuitDict[str(y)][ind][1] + ',' + circuitDict[str(y)][ind][2] + ';\\n'\n",
    "        ind += 1\n",
    "    for z in range(len(circuitDict.keys())):\n",
    "        outText += 'measure q[' + str(z) + '] -> c[' + str(z) + '];\\n'\n",
    "            \n",
    "    return outText"
   ]
  },
  {
   "cell_type": "code",
   "execution_count": 24,
   "metadata": {},
   "outputs": [],
   "source": [
    "def swapList(circuitDict):\n",
    "\n",
    "    swapDict = {'HHtoNone': [], 'HZHtoCX': [], 'CXtoHZH': [], 'NonetoHH': []}\n",
    "\n",
    "    for qubit in circuitDict:\n",
    "        gates = circuitDict[qubit]\n",
    "\n",
    "        # go through all the gates for a qubit\n",
    "        for i in range(len(gates)):\n",
    "#             print(gates[i])\n",
    "            # HHtoNone\n",
    "            if i < len(gates) - 1:\n",
    "                if (gates[i][0] == 'h') and (gates[i+1][0] == 'h'):\n",
    "                    swapDict['HHtoNone'].append([qubit, i])\n",
    "\n",
    "            # HZHtoCX\n",
    "            if i > 0 and i <= len(gates) - 1:\n",
    "                if (gates[i-1][0] == 'h') and (gates[i][0] == 'cz') and (gates[i+1][0] == 'h') and (gates[i-1][-1] == gates[i][-1]):\n",
    "                    if gates[i][2][2] == qubit:\n",
    "                        swapDict['HZHtoCX'].append([qubit, i])\n",
    "\n",
    "            # CXtoHZH\n",
    "            if (gates[i][0] == 'cx'):\n",
    "                if gates[i][2][2] == qubit:\n",
    "                    swapDict['CXtoHZH'].append([qubit, i])\n",
    "\n",
    "            # None to HH\n",
    "            swapDict['NonetoHH'].append([qubit, i])\n",
    "        # None to HH\n",
    "        swapDict['NonetoHH'].append([qubit, len(gates)-1])\n",
    "        \n",
    "    return swapDict"
   ]
  },
  {
   "cell_type": "code",
   "execution_count": 25,
   "metadata": {},
   "outputs": [],
   "source": [
    "def updateCircuit(circuit):\n",
    "    file1 = open(\"temp.qasm\",\"w+\")\n",
    "    file1.write(objDictToQasm(circuit))\n",
    "    file1.close()\n",
    "    stringCircuit, objCircuit = openQASM('temp.qasm')\n",
    "    swapDict = swapList(stringCircuit)\n",
    "    return (objCircuit, swapDict)\n",
    "    "
   ]
  },
  {
   "cell_type": "code",
   "execution_count": 26,
   "metadata": {
    "scrolled": true
   },
   "outputs": [],
   "source": [
    "def slicer(circuitQasm, depth):\n",
    "    circuit = openQASM(circuitQasm)\n",
    "    base = dict(circuit)\n",
    "    for qubit in base:\n",
    "        base[qubit] = []\n",
    "    print(circuit)\n",
    "    print(base)\n",
    "    leastLen = 9999999999\n",
    "    maxLen = 0\n",
    "    for x in circuit:\n",
    "        if len(circuit[x]) < leastLen:\n",
    "            leastLen = len(circuit[x])\n",
    "        if len(circuit[x]) > maxLen:\n",
    "            maxLen = len(circuit[x])\n",
    "    if depth > leastLen or (depth == leastLen and depth == maxLen):\n",
    "        return dictToQasm(circuitQasm)\n",
    "    print(leastLen)\n",
    "    numSubCircuits = math.floor(leastLen/depth)\n",
    "    subCircuitList = []\n",
    "    for subCirc in range(numSubCircuits):\n",
    "        subCircuitList.append(dict(base))\n",
    "        for q in subCircuitList[subCirc]:\n",
    "            subCircuitList[subCirc][q] = circuit[q][0:depth]\n",
    "#             print(subCircuitList)\n",
    "            del circuit[q][0:depth]\n",
    "    if circuit != dict(base):\n",
    "        subCircuitList.append(circuit)\n",
    "    qasmList = []\n",
    "    print(subCircuitList)\n",
    "    for dictCircuit in subCircuitList:\n",
    "        qasmList.append(dictToQasm(dictCircuit))\n",
    "    return qasmList\n",
    "# sliced = slicer('circuit.qasm', 2)\n",
    "# # print(sliced)\n",
    "# circ_out = qiskit.QuantumCircuit.from_qasm_str(sliced[3])\n",
    "# circ_out.draw()\n",
    "\n",
    "    "
   ]
  },
  {
   "cell_type": "code",
   "execution_count": 35,
   "metadata": {
    "scrolled": true
   },
   "outputs": [
    {
     "name": "stdout",
     "output_type": "stream",
     "text": [
      "[['OPENQASM', '2.0'], ['include', '\"qelib1.inc\"'], ['qreg', 'q[3]'], ['creg', 'c[3]'], ['cx', 'q[0]', 'q[1]'], ['cx', 'q[1]', 'q[2]'], ['measure', 'q[0]', '->', 'c[0]'], ['measure', 'q[1]', '->', 'c[1]']]\n",
      "this is the count array\n",
      "[0, 0, 0]\n",
      "{'0': [], '1': [], '2': []}\n",
      "this is the count array\n",
      "[0, 0, 0]\n",
      "{'0': [], '1': [], '2': []}\n",
      "this is the count array\n",
      "[0, 0, 0]\n",
      "{'0': [['cx', 'q[0]', 'q[1]']], '1': [['cx', 'q[0]', 'q[1]']], '2': []}\n",
      "this is the count array\n",
      "[1, 1, 0]\n",
      "{'0': [['cx', 'q[0]', 'q[1]']], '1': [['cx', 'q[0]', 'q[1]'], ['cx', 'q[1]', 'q[2]']], '2': [[None], ['cx', 'q[1]', 'q[2]']]}\n",
      "this is the count array\n",
      "[1, 2, 2]\n",
      "{'0': [['cx', 'q[0]', 'q[1]']], '1': [['cx', 'q[0]', 'q[1]'], ['cx', 'q[1]', 'q[2]']], '2': [[None], ['cx', 'q[1]', 'q[2]']]}\n",
      "this is the count array\n",
      "[1, 2, 2]\n",
      "{'0': [['cx', 'q[0]', 'q[1]']], '1': [['cx', 'q[0]', 'q[1]'], ['cx', 'q[1]', 'q[2]']], '2': [[None], ['cx', 'q[1]', 'q[2]']]}\n",
      "{'0': [['cx', '1', '0']], '1': [['cx', '1', '0'], ['cx', '2', '1']], '2': [[None, None, None], ['cx', '2', '1']]}\n",
      "{'0': [['cx', 'q[0]', 'q[1]']], '1': [['cx', 'q[0]', 'q[1]'], ['cx', 'q[1]', 'q[2]']], '2': [[None], ['cx', 'q[1]', 'q[2]']]}\n",
      "{'0': [['cx', '1', '0']], '1': [['cx', '1', '0'], ['cx', '2', '1']], '2': [[None, None, None], ['cx', '2', '1']]}\n",
      "{'HHtoNone': [], 'HZHtoCX': [], 'CXtoHZH': [['1', 0], ['2', 1]], 'NonetoHH': [['0', 0], ['0', 0], ['1', 0], ['1', 1], ['1', 1], ['2', 0], ['2', 1], ['2', 1]]}\n"
     ]
    }
   ],
   "source": [
    "stringCircuit, objCircuit = openQASM('CNOT.qasm')\n",
    "print(stringCircuit)\n",
    "print(objCircuit)\n",
    "swapDict = swapList(stringCircuit)\n",
    "print(swapDict)\n",
    "# qubit, depth = random.choice(swapDict['HZHtoCX'])\n",
    "\n",
    "# print(HZHtoCX('1', 1, circuit))\n",
    "\n",
    "# print(CXtoHZH(qubit, depth, circuit))\n",
    "# swappedCirc = HZHtoCXObj('1', 1, objCircuit)\n",
    "# swappedCirc = HHtoNoneObj('0', 2, objCircuit)\n",
    "# print(swappedCirc)\n",
    "# updateCircuit(swappedCirc)"
   ]
  },
  {
   "cell_type": "code",
   "execution_count": 37,
   "metadata": {
    "scrolled": true
   },
   "outputs": [
    {
     "data": {
      "text/html": [
       "<pre style=\"word-wrap: normal;white-space: pre;background: #fff0;line-height: 1.1;font-family: &quot;Courier New&quot;,Courier,monospace\">                  ┌─┐   \n",
       "q_0: ──────■──────┤M├───\n",
       "     ┌───┐ │ ┌───┐└╥┘┌─┐\n",
       "q_1: ┤ H ├─■─┤ H ├─╫─┤M├\n",
       "     └───┘   └───┘ ║ └╥┘\n",
       "c: 2/══════════════╩══╩═\n",
       "                   0  1 </pre>"
      ],
      "text/plain": [
       "                  ┌─┐   \n",
       "q_0: ──────■──────┤M├───\n",
       "     ┌───┐ │ ┌───┐└╥┘┌─┐\n",
       "q_1: ┤ H ├─■─┤ H ├─╫─┤M├\n",
       "     └───┘   └───┘ ║ └╥┘\n",
       "c: 2/══════════════╩══╩═\n",
       "                   0  1 "
      ]
     },
     "execution_count": 37,
     "metadata": {},
     "output_type": "execute_result"
    }
   ],
   "source": [
    "circ = qiskit.QuantumCircuit.from_qasm_file('circuit.qasm')\n",
    "circ.draw()"
   ]
  },
  {
   "cell_type": "code",
   "execution_count": 13,
   "metadata": {},
   "outputs": [
    {
     "data": {
      "text/plain": [
       "[(<qiskit.circuit.library.standard_gates.h.HGate object at 0x10cb2fca0>, [Qubit(QuantumRegister(2, 'q'), 1)], []), (<qiskit.circuit.library.standard_gates.z.CZGate object at 0x1321fdb50>, [Qubit(QuantumRegister(2, 'q'), 0), Qubit(QuantumRegister(2, 'q'), 1)], []), (<qiskit.circuit.library.standard_gates.h.HGate object at 0x1321fd220>, [Qubit(QuantumRegister(2, 'q'), 1)], []), (<qiskit.circuit.measure.Measure object at 0x1321fd130>, [Qubit(QuantumRegister(2, 'q'), 0)], [Clbit(ClassicalRegister(2, 'c'), 0)]), (<qiskit.circuit.measure.Measure object at 0x1321fda30>, [Qubit(QuantumRegister(2, 'q'), 1)], [Clbit(ClassicalRegister(2, 'c'), 1)])]"
      ]
     },
     "execution_count": 13,
     "metadata": {},
     "output_type": "execute_result"
    }
   ],
   "source": [
    "circ.data"
   ]
  },
  {
   "cell_type": "code",
   "execution_count": 14,
   "metadata": {},
   "outputs": [
    {
     "name": "stdout",
     "output_type": "stream",
     "text": [
      "OPENQASM 2.0;\n",
      "include \"qelib1.inc\";\n",
      "qreg q[2];\n",
      "creg c[2];\n",
      "cx q[0], q[1];\n",
      "measure q[0] -> c[0];\n",
      "measure q[1] -> c[1];\n",
      "\n"
     ]
    },
    {
     "data": {
      "text/html": [
       "<pre style=\"word-wrap: normal;white-space: pre;background: #fff0;line-height: 1.1;font-family: &quot;Courier New&quot;,Courier,monospace\">          ┌─┐   \n",
       "q_0: ──■──┤M├───\n",
       "     ┌─┴─┐└╥┘┌─┐\n",
       "q_1: ┤ X ├─╫─┤M├\n",
       "     └───┘ ║ └╥┘\n",
       "c: 2/══════╩══╩═\n",
       "           0  1 </pre>"
      ],
      "text/plain": [
       "          ┌─┐   \n",
       "q_0: ──■──┤M├───\n",
       "     ┌─┴─┐└╥┘┌─┐\n",
       "q_1: ┤ X ├─╫─┤M├\n",
       "     └───┘ ║ └╥┘\n",
       "c: 2/══════╩══╩═\n",
       "           0  1 "
      ]
     },
     "execution_count": 14,
     "metadata": {},
     "output_type": "execute_result"
    }
   ],
   "source": [
    "print(objDictToQasm(swappedCirc))\n",
    "circ_out = qiskit.QuantumCircuit.from_qasm_str(objDictToQasm(swappedCirc))\n",
    "circ_out.draw()"
   ]
  },
  {
   "cell_type": "code",
   "execution_count": 15,
   "metadata": {},
   "outputs": [
    {
     "data": {
      "text/html": [
       "<pre style=\"word-wrap: normal;white-space: pre;background: #fff0;line-height: 1.1;font-family: &quot;Courier New&quot;,Courier,monospace\">               ┌─┐   \n",
       "q_0: ──■───────┤M├───\n",
       "     ┌─┴─┐     └╥┘┌─┐\n",
       "q_1: ┤ X ├──■───╫─┤M├\n",
       "     └───┘┌─┴─┐ ║ └╥┘\n",
       "q_2: ─────┤ X ├─╫──╫─\n",
       "          └───┘ ║  ║ \n",
       "c: 3/═══════════╩══╩═\n",
       "                0  1 </pre>"
      ],
      "text/plain": [
       "               ┌─┐   \n",
       "q_0: ──■───────┤M├───\n",
       "     ┌─┴─┐     └╥┘┌─┐\n",
       "q_1: ┤ X ├──■───╫─┤M├\n",
       "     └───┘┌─┴─┐ ║ └╥┘\n",
       "q_2: ─────┤ X ├─╫──╫─\n",
       "          └───┘ ║  ║ \n",
       "c: 3/═══════════╩══╩═\n",
       "                0  1 "
      ]
     },
     "execution_count": 15,
     "metadata": {},
     "output_type": "execute_result"
    }
   ],
   "source": [
    "circ = qiskit.QuantumCircuit.from_qasm_file('CNOT.qasm')\n",
    "circ.draw()"
   ]
  },
  {
   "cell_type": "code",
   "execution_count": 36,
   "metadata": {
    "scrolled": true
   },
   "outputs": [
    {
     "name": "stdout",
     "output_type": "stream",
     "text": [
      "[['OPENQASM', '2.0'], ['include', '\"qelib1.inc\"'], ['qreg', 'q[3]'], ['creg', 'c[3]'], ['cx', 'q[0]', 'q[1]'], ['cx', 'q[1]', 'q[2]'], ['measure', 'q[0]', '->', 'c[0]'], ['measure', 'q[1]', '->', 'c[1]']]\n",
      "this is the count array\n",
      "[0, 0, 0]\n",
      "{'0': [], '1': [], '2': []}\n",
      "this is the count array\n",
      "[0, 0, 0]\n",
      "{'0': [], '1': [], '2': []}\n",
      "this is the count array\n",
      "[0, 0, 0]\n",
      "{'0': [['cx', 'q[0]', 'q[1]']], '1': [['cx', 'q[0]', 'q[1]']], '2': []}\n",
      "this is the count array\n",
      "[1, 1, 0]\n",
      "{'0': [['cx', 'q[0]', 'q[1]']], '1': [['cx', 'q[0]', 'q[1]'], ['cx', 'q[1]', 'q[2]']], '2': [[None], ['cx', 'q[1]', 'q[2]']]}\n",
      "this is the count array\n",
      "[1, 2, 2]\n",
      "{'0': [['cx', 'q[0]', 'q[1]']], '1': [['cx', 'q[0]', 'q[1]'], ['cx', 'q[1]', 'q[2]']], '2': [[None], ['cx', 'q[1]', 'q[2]']]}\n",
      "this is the count array\n",
      "[1, 2, 2]\n",
      "{'0': [['cx', 'q[0]', 'q[1]']], '1': [['cx', 'q[0]', 'q[1]'], ['cx', 'q[1]', 'q[2]']], '2': [[None], ['cx', 'q[1]', 'q[2]']]}\n",
      "{'0': [['cx', '1', '0']], '1': [['cx', '1', '0'], ['cx', '2', '1']], '2': [[None, None, None], ['cx', '2', '1']]}\n",
      "{'0': [['cx', 'q[0]', 'q[1]']], '1': [['cx', 'q[0]', 'q[1]'], ['cx', 'q[1]', 'q[2]']], '2': [[None], ['cx', 'q[1]', 'q[2]']]}\n",
      "{'0': [['cx', '1', '0']], '1': [['cx', '1', '0'], ['cx', '2', '1']], '2': [[None, None, None], ['cx', '2', '1']]}\n"
     ]
    },
    {
     "ename": "KeyError",
     "evalue": "None",
     "output_type": "error",
     "traceback": [
      "\u001b[0;31m---------------------------------------------------------------------------\u001b[0m",
      "\u001b[0;31mKeyError\u001b[0m                                  Traceback (most recent call last)",
      "\u001b[0;32m/var/folders/p3/p1ms8f2147z_zz9fzkzhl7300000gq/T/ipykernel_67602/3201489208.py\u001b[0m in \u001b[0;36m<module>\u001b[0;34m\u001b[0m\n\u001b[1;32m      2\u001b[0m \u001b[0mprint\u001b[0m\u001b[0;34m(\u001b[0m\u001b[0mstringCircuit\u001b[0m\u001b[0;34m)\u001b[0m\u001b[0;34m\u001b[0m\u001b[0;34m\u001b[0m\u001b[0m\n\u001b[1;32m      3\u001b[0m \u001b[0mprint\u001b[0m\u001b[0;34m(\u001b[0m\u001b[0mobjCircuit\u001b[0m\u001b[0;34m)\u001b[0m\u001b[0;34m\u001b[0m\u001b[0;34m\u001b[0m\u001b[0m\n\u001b[0;32m----> 4\u001b[0;31m \u001b[0mswappedCirc\u001b[0m \u001b[0;34m=\u001b[0m \u001b[0mCNOTCTtoMTC\u001b[0m\u001b[0;34m(\u001b[0m\u001b[0;34m'2'\u001b[0m\u001b[0;34m,\u001b[0m \u001b[0;36m0\u001b[0m\u001b[0;34m,\u001b[0m \u001b[0mobjCircuit\u001b[0m\u001b[0;34m)\u001b[0m\u001b[0;34m\u001b[0m\u001b[0;34m\u001b[0m\u001b[0m\n\u001b[0m\u001b[1;32m      5\u001b[0m \u001b[0mprint\u001b[0m\u001b[0;34m(\u001b[0m\u001b[0mswappedCirc\u001b[0m\u001b[0;34m)\u001b[0m\u001b[0;34m\u001b[0m\u001b[0;34m\u001b[0m\u001b[0m\n\u001b[1;32m      6\u001b[0m \u001b[0mupdateCircuit\u001b[0m\u001b[0;34m(\u001b[0m\u001b[0mswappedCirc\u001b[0m\u001b[0;34m)\u001b[0m\u001b[0;34m\u001b[0m\u001b[0;34m\u001b[0m\u001b[0m\n",
      "\u001b[0;32m/var/folders/p3/p1ms8f2147z_zz9fzkzhl7300000gq/T/ipykernel_67602/1408211766.py\u001b[0m in \u001b[0;36mCNOTCTtoMTC\u001b[0;34m(qubit, depth, circuitDict)\u001b[0m\n\u001b[1;32m     85\u001b[0m     \u001b[0mqubit3\u001b[0m \u001b[0;34m=\u001b[0m \u001b[0mcircuitDict\u001b[0m\u001b[0;34m[\u001b[0m\u001b[0mqubit\u001b[0m\u001b[0;34m]\u001b[0m\u001b[0;34m[\u001b[0m\u001b[0mdepth\u001b[0m\u001b[0;34m+\u001b[0m\u001b[0;36m1\u001b[0m\u001b[0;34m]\u001b[0m\u001b[0;34m.\u001b[0m\u001b[0mcontrolBit\u001b[0m\u001b[0;34m\u001b[0m\u001b[0;34m\u001b[0m\u001b[0m\n\u001b[1;32m     86\u001b[0m     \u001b[0;31m#Insert the first big CNOT\u001b[0m\u001b[0;34m\u001b[0m\u001b[0;34m\u001b[0m\u001b[0;34m\u001b[0m\u001b[0m\n\u001b[0;32m---> 87\u001b[0;31m     \u001b[0mcircuitDict\u001b[0m\u001b[0;34m[\u001b[0m\u001b[0mqubit2\u001b[0m\u001b[0;34m]\u001b[0m\u001b[0;34m.\u001b[0m\u001b[0minsert\u001b[0m\u001b[0;34m(\u001b[0m\u001b[0mdepth\u001b[0m\u001b[0;34m,\u001b[0m \u001b[0mQGate\u001b[0m\u001b[0;34m(\u001b[0m\u001b[0;34m'cx'\u001b[0m\u001b[0;34m,\u001b[0m \u001b[0mqubit2\u001b[0m\u001b[0;34m,\u001b[0m \u001b[0mqubit3\u001b[0m\u001b[0;34m)\u001b[0m\u001b[0;34m)\u001b[0m\u001b[0;34m\u001b[0m\u001b[0;34m\u001b[0m\u001b[0m\n\u001b[0m\u001b[1;32m     88\u001b[0m     \u001b[0mcircuitDict\u001b[0m\u001b[0;34m[\u001b[0m\u001b[0mqubit3\u001b[0m\u001b[0;34m]\u001b[0m\u001b[0;34m.\u001b[0m\u001b[0minsert\u001b[0m\u001b[0;34m(\u001b[0m\u001b[0mdepth\u001b[0m\u001b[0;34m,\u001b[0m \u001b[0mQGate\u001b[0m\u001b[0;34m(\u001b[0m\u001b[0;34m'cx'\u001b[0m\u001b[0;34m,\u001b[0m \u001b[0mqubit2\u001b[0m\u001b[0;34m,\u001b[0m \u001b[0mqubit3\u001b[0m\u001b[0;34m)\u001b[0m\u001b[0;34m)\u001b[0m\u001b[0;34m\u001b[0m\u001b[0;34m\u001b[0m\u001b[0m\n\u001b[1;32m     89\u001b[0m     \u001b[0mcircuitDict\u001b[0m\u001b[0;34m[\u001b[0m\u001b[0mqubit\u001b[0m\u001b[0;34m]\u001b[0m\u001b[0;34m.\u001b[0m\u001b[0minsert\u001b[0m\u001b[0;34m(\u001b[0m\u001b[0mdepth\u001b[0m\u001b[0;34m,\u001b[0m \u001b[0mQGate\u001b[0m\u001b[0;34m(\u001b[0m\u001b[0;34m'cx'\u001b[0m\u001b[0;34m,\u001b[0m \u001b[0mqubit2\u001b[0m\u001b[0;34m,\u001b[0m \u001b[0mqubit3\u001b[0m\u001b[0;34m)\u001b[0m\u001b[0;34m)\u001b[0m\u001b[0;34m\u001b[0m\u001b[0;34m\u001b[0m\u001b[0m\n",
      "\u001b[0;31mKeyError\u001b[0m: None"
     ]
    }
   ],
   "source": [
    "stringCircuit, objCircuit = openQASM('CNOT.qasm')\n",
    "print(stringCircuit)\n",
    "print(objCircuit)\n",
    "swappedCirc = CNOTCTtoMTC('2', 0, objCircuit)\n",
    "print(swappedCirc)\n",
    "updateCircuit(swappedCirc)"
   ]
  },
  {
   "cell_type": "code",
   "execution_count": null,
   "metadata": {},
   "outputs": [],
   "source": []
  }
 ],
 "metadata": {
  "kernelspec": {
   "display_name": "Python 3 (ipykernel)",
   "language": "python",
   "name": "python3"
  },
  "language_info": {
   "codemirror_mode": {
    "name": "ipython",
    "version": 3
   },
   "file_extension": ".py",
   "mimetype": "text/x-python",
   "name": "python",
   "nbconvert_exporter": "python",
   "pygments_lexer": "ipython3",
   "version": "3.8.2"
  }
 },
 "nbformat": 4,
 "nbformat_minor": 4
}
